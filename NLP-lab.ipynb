{
 "cells": [
  {
   "cell_type": "code",
   "execution_count": 4,
   "metadata": {},
   "outputs": [
    {
     "name": "stdout",
     "output_type": "stream",
     "text": [
      "mkdir: cannot create directory ‘Data’: File exists\n",
      "download: s3://nlp-kc-learning/amazon_review_polarity_csv.tgz to Data/amazon_review_polarity_csv.tgz\n"
     ]
    }
   ],
   "source": [
    "!mkdir Data"
   ]
  },
  {
   "cell_type": "code",
   "execution_count": 17,
   "metadata": {},
   "outputs": [
    {
     "name": "stdout",
     "output_type": "stream",
     "text": []
    },
    {
     "name": "stdout",
     "output_type": "stream",
     "text": []
    },
    {
     "name": "stdout",
     "output_type": "stream",
     "text": []
    },
    {
     "name": "stdout",
     "output_type": "stream",
     "text": []
    },
    {
     "name": "stdout",
     "output_type": "stream",
     "text": []
    },
    {
     "name": "stdout",
     "output_type": "stream",
     "text": []
    },
    {
     "name": "stdout",
     "output_type": "stream",
     "text": []
    },
    {
     "name": "stdout",
     "output_type": "stream",
     "text": []
    },
    {
     "name": "stdout",
     "output_type": "stream",
     "text": []
    },
    {
     "name": "stdout",
     "output_type": "stream",
     "text": []
    },
    {
     "name": "stdout",
     "output_type": "stream",
     "text": []
    },
    {
     "name": "stdout",
     "output_type": "stream",
     "text": []
    },
    {
     "name": "stdout",
     "output_type": "stream",
     "text": []
    },
    {
     "name": "stdout",
     "output_type": "stream",
     "text": []
    },
    {
     "name": "stdout",
     "output_type": "stream",
     "text": []
    },
    {
     "name": "stdout",
     "output_type": "stream",
     "text": []
    },
    {
     "name": "stdout",
     "output_type": "stream",
     "text": []
    },
    {
     "name": "stdout",
     "output_type": "stream",
     "text": []
    },
    {
     "name": "stdout",
     "output_type": "stream",
     "text": []
    },
    {
     "name": "stdout",
     "output_type": "stream",
     "text": []
    },
    {
     "name": "stdout",
     "output_type": "stream",
     "text": []
    },
    {
     "name": "stdout",
     "output_type": "stream",
     "text": []
    },
    {
     "name": "stdout",
     "output_type": "stream",
     "text": []
    },
    {
     "name": "stdout",
     "output_type": "stream",
     "text": []
    },
    {
     "name": "stdout",
     "output_type": "stream",
     "text": []
    },
    {
     "name": "stdout",
     "output_type": "stream",
     "text": []
    },
    {
     "name": "stdout",
     "output_type": "stream",
     "text": []
    },
    {
     "name": "stdout",
     "output_type": "stream",
     "text": []
    },
    {
     "name": "stdout",
     "output_type": "stream",
     "text": []
    },
    {
     "name": "stdout",
     "output_type": "stream",
     "text": []
    },
    {
     "name": "stdout",
     "output_type": "stream",
     "text": []
    },
    {
     "name": "stdout",
     "output_type": "stream",
     "text": []
    },
    {
     "name": "stdout",
     "output_type": "stream",
     "text": []
    },
    {
     "name": "stdout",
     "output_type": "stream",
     "text": []
    },
    {
     "name": "stdout",
     "output_type": "stream",
     "text": []
    },
    {
     "name": "stdout",
     "output_type": "stream",
     "text": []
    },
    {
     "name": "stdout",
     "output_type": "stream",
     "text": []
    },
    {
     "name": "stdout",
     "output_type": "stream",
     "text": []
    },
    {
     "name": "stdout",
     "output_type": "stream",
     "text": []
    },
    {
     "name": "stdout",
     "output_type": "stream",
     "text": []
    },
    {
     "name": "stdout",
     "output_type": "stream",
     "text": []
    },
    {
     "name": "stdout",
     "output_type": "stream",
     "text": []
    },
    {
     "name": "stdout",
     "output_type": "stream",
     "text": []
    },
    {
     "name": "stdout",
     "output_type": "stream",
     "text": []
    },
    {
     "name": "stdout",
     "output_type": "stream",
     "text": []
    },
    {
     "name": "stdout",
     "output_type": "stream",
     "text": []
    },
    {
     "name": "stdout",
     "output_type": "stream",
     "text": []
    },
    {
     "name": "stdout",
     "output_type": "stream",
     "text": []
    },
    {
     "name": "stdout",
     "output_type": "stream",
     "text": []
    },
    {
     "name": "stdout",
     "output_type": "stream",
     "text": []
    },
    {
     "name": "stdout",
     "output_type": "stream",
     "text": []
    },
    {
     "name": "stdout",
     "output_type": "stream",
     "text": []
    },
    {
     "name": "stdout",
     "output_type": "stream",
     "text": []
    },
    {
     "name": "stdout",
     "output_type": "stream",
     "text": []
    },
    {
     "name": "stdout",
     "output_type": "stream",
     "text": []
    },
    {
     "name": "stdout",
     "output_type": "stream",
     "text": []
    },
    {
     "name": "stdout",
     "output_type": "stream",
     "text": []
    },
    {
     "name": "stdout",
     "output_type": "stream",
     "text": []
    },
    {
     "name": "stdout",
     "output_type": "stream",
     "text": []
    },
    {
     "name": "stdout",
     "output_type": "stream",
     "text": []
    },
    {
     "name": "stdout",
     "output_type": "stream",
     "text": []
    },
    {
     "name": "stdout",
     "output_type": "stream",
     "text": []
    },
    {
     "name": "stdout",
     "output_type": "stream",
     "text": []
    },
    {
     "name": "stdout",
     "output_type": "stream",
     "text": []
    },
    {
     "name": "stdout",
     "output_type": "stream",
     "text": []
    },
    {
     "name": "stdout",
     "output_type": "stream",
     "text": []
    },
    {
     "name": "stdout",
     "output_type": "stream",
     "text": []
    },
    {
     "name": "stdout",
     "output_type": "stream",
     "text": [
      "download: s3://nlp-kc-learning/amazon_review_polarity_csv.tgz to ./amazon_review_polarity_csv.tgz\n"
     ]
    }
   ],
   "source": [
    "!aws s3 cp s3://nlp-kc-learning/amazon_review_polarity_csv.tgz ."
   ]
  },
  {
   "cell_type": "code",
   "execution_count": 3,
   "metadata": {},
   "outputs": [
    {
     "name": "stdout",
     "output_type": "stream",
     "text": [
      "mkdir: cannot create directory ‘./data’: File exists\n",
      "amazon_review_polarity_csv/\n",
      "amazon_review_polarity_csv/train.csv\n",
      "amazon_review_polarity_csv/readme.txt\n",
      "amazon_review_polarity_csv/test.csv\n"
     ]
    }
   ],
   "source": [
    "!mkdir ./data ; tar -C ./data -xzvf amazon_review_polarity_csv.tgz"
   ]
  },
  {
   "cell_type": "code",
   "execution_count": 20,
   "metadata": {},
   "outputs": [],
   "source": [
    "import pandas as pd\n",
    "df = pd.read_csv(\"amazon_review_polarity_csv/train.csv\", names=[\"Label\", \"Title\", \"Review\"])"
   ]
  },
  {
   "cell_type": "code",
   "execution_count": 21,
   "metadata": {},
   "outputs": [
    {
     "data": {
      "text/html": [
       "<div>\n",
       "<style scoped>\n",
       "    .dataframe tbody tr th:only-of-type {\n",
       "        vertical-align: middle;\n",
       "    }\n",
       "\n",
       "    .dataframe tbody tr th {\n",
       "        vertical-align: top;\n",
       "    }\n",
       "\n",
       "    .dataframe thead th {\n",
       "        text-align: right;\n",
       "    }\n",
       "</style>\n",
       "<table border=\"1\" class=\"dataframe\">\n",
       "  <thead>\n",
       "    <tr style=\"text-align: right;\">\n",
       "      <th></th>\n",
       "      <th>Label</th>\n",
       "      <th>Title</th>\n",
       "      <th>Review</th>\n",
       "    </tr>\n",
       "  </thead>\n",
       "  <tbody>\n",
       "    <tr>\n",
       "      <th>0</th>\n",
       "      <td>2</td>\n",
       "      <td>Stuning even for the non-gamer</td>\n",
       "      <td>This sound track was beautiful! It paints the ...</td>\n",
       "    </tr>\n",
       "    <tr>\n",
       "      <th>1</th>\n",
       "      <td>2</td>\n",
       "      <td>The best soundtrack ever to anything.</td>\n",
       "      <td>I'm reading a lot of reviews saying that this ...</td>\n",
       "    </tr>\n",
       "    <tr>\n",
       "      <th>2</th>\n",
       "      <td>2</td>\n",
       "      <td>Amazing!</td>\n",
       "      <td>This soundtrack is my favorite music of all ti...</td>\n",
       "    </tr>\n",
       "    <tr>\n",
       "      <th>3</th>\n",
       "      <td>2</td>\n",
       "      <td>Excellent Soundtrack</td>\n",
       "      <td>I truly like this soundtrack and I enjoy video...</td>\n",
       "    </tr>\n",
       "    <tr>\n",
       "      <th>4</th>\n",
       "      <td>2</td>\n",
       "      <td>Remember, Pull Your Jaw Off The Floor After He...</td>\n",
       "      <td>If you've played the game, you know how divine...</td>\n",
       "    </tr>\n",
       "  </tbody>\n",
       "</table>\n",
       "</div>"
      ],
      "text/plain": [
       "   Label                                              Title  \\\n",
       "0      2                     Stuning even for the non-gamer   \n",
       "1      2              The best soundtrack ever to anything.   \n",
       "2      2                                           Amazing!   \n",
       "3      2                               Excellent Soundtrack   \n",
       "4      2  Remember, Pull Your Jaw Off The Floor After He...   \n",
       "\n",
       "                                              Review  \n",
       "0  This sound track was beautiful! It paints the ...  \n",
       "1  I'm reading a lot of reviews saying that this ...  \n",
       "2  This soundtrack is my favorite music of all ti...  \n",
       "3  I truly like this soundtrack and I enjoy video...  \n",
       "4  If you've played the game, you know how divine...  "
      ]
     },
     "execution_count": 21,
     "metadata": {},
     "output_type": "execute_result"
    }
   ],
   "source": [
    "df.head()"
   ]
  },
  {
   "cell_type": "code",
   "execution_count": null,
   "metadata": {},
   "outputs": [],
   "source": [
    "df.shape"
   ]
  },
  {
   "cell_type": "markdown",
   "metadata": {},
   "source": [
    "To get bson loaded..."
   ]
  },
  {
   "cell_type": "code",
   "execution_count": 9,
   "metadata": {},
   "outputs": [
    {
     "name": "stdout",
     "output_type": "stream",
     "text": [
      "Solving environment: done\n",
      "\n",
      "\n",
      "==> WARNING: A newer version of conda exists. <==\n",
      "  current version: 4.5.12\n",
      "  latest version: 4.6.14\n",
      "\n",
      "Please update conda by running\n",
      "\n",
      "    $ conda update -n base -c defaults conda\n",
      "\n",
      "\n",
      "\n",
      "## Package Plan ##\n",
      "\n",
      "  environment location: /home/ec2-user/anaconda3/envs/python3\n",
      "\n",
      "  added / updated specs: \n",
      "    - pymongo\n",
      "\n",
      "\n",
      "The following packages will be downloaded:\n",
      "\n",
      "    package                    |            build\n",
      "    ---------------------------|-----------------\n",
      "    pymongo-3.7.2              |   py36he6710b0_0         981 KB  anaconda\n",
      "    ca-certificates-2019.1.23  |                0         126 KB  anaconda\n",
      "    certifi-2019.3.9           |           py36_0         155 KB  anaconda\n",
      "    openssl-1.0.2r             |       h7b6447c_0         3.2 MB  anaconda\n",
      "    ------------------------------------------------------------\n",
      "                                           Total:         4.4 MB\n",
      "\n",
      "The following NEW packages will be INSTALLED:\n",
      "\n",
      "    pymongo:         3.7.2-py36he6710b0_0 anaconda\n",
      "\n",
      "The following packages will be UPDATED:\n",
      "\n",
      "    ca-certificates: 2019.1.23-0                   --> 2019.1.23-0       anaconda\n",
      "    certifi:         2019.3.9-py36_0               --> 2019.3.9-py36_0   anaconda\n",
      "    openssl:         1.0.2r-h7b6447c_0             --> 1.0.2r-h7b6447c_0 anaconda\n",
      "\n",
      "\n",
      "Downloading and Extracting Packages\n",
      "pymongo-3.7.2        | 981 KB    | ##################################### | 100% \n",
      "ca-certificates-2019 | 126 KB    | ##################################### | 100% \n",
      "certifi-2019.3.9     | 155 KB    | ##################################### | 100% \n",
      "openssl-1.0.2r       | 3.2 MB    | ##################################### | 100% \n",
      "Preparing transaction: done\n",
      "Verifying transaction: done\n",
      "Executing transaction: done\n"
     ]
    }
   ],
   "source": [
    "!conda install -c anaconda pymongo -y"
   ]
  },
  {
   "cell_type": "markdown",
   "metadata": {},
   "source": [
    "Load the Comprehend"
   ]
  },
  {
   "cell_type": "code",
   "execution_count": 17,
   "metadata": {},
   "outputs": [],
   "source": [
    "import json\n",
    "from bson import json_util\n",
    " \n",
    "#comprehend = boto3.client(service_name='comprehend', region_name='region')\n",
    "import boto3\n",
    "s3 = boto3.resource('s3')\n",
    "#comprehend = boto3.client('comprehend', region_name='us-east-1')\n",
    "#s3 = boto3.client('s3')\n",
    "bucket = s3.Bucket('nlp-jsears-output')\n",
    "exists = True\n",
    "try:\n",
    "    s3.meta.client.head_bucket(Bucket='nlp-jsears-output')\n",
    "except botocore.exceptions.ClientError as e:\n",
    "    # If a client error is thrown, then check that it was a 404 error.\n",
    "    # If it was a 404 error, then the bucket does not exist.\n",
    "    error_code = e.response['Error']['Code']\n",
    "    if error_code == '404':\n",
    "        exists = False\n",
    "\n",
    "                \n",
    "#input_s3_url = \"s3://nlp-kc-learning/training_file.csv\"\n",
    "\n",
    "#client.copy(input_s3_url,\"nlp-jsears-output\",)"
   ]
  },
  {
   "cell_type": "code",
   "execution_count": 21,
   "metadata": {},
   "outputs": [],
   "source": [
    "import json\n",
    "from bson import json_util\n",
    " \n",
    "#comprehend = boto3.client(service_name='comprehend', region_name='region')\n",
    "import boto3 \n",
    "comprehend = boto3.client('comprehend', region_name='us-east-1')\n",
    "s3 = boto3.resource('s3')\n",
    "                \n",
    "input_s3_url = \"s3://nlp-kc-learning/training_file.csv\"\n",
    "\n",
    "bucket = s3.Bucket('nlp-jsears-output')\n",
    "copy_source = {\n",
    "    'Bucket': 'nlp-kc-learning',\n",
    "    'Key': 'training_file.csv'\n",
    "}\n",
    "\n",
    "bucket.copy(copy_source,\"training_file.csv\")\n",
    "\n",
    "lines = response['Body'].read().splitlines(True)\n",
    "reader = csv.reader(lines)"
   ]
  },
  {
   "cell_type": "code",
   "execution_count": 1,
   "metadata": {},
   "outputs": [
    {
     "data": {
      "text/html": [
       "<div>\n",
       "<style scoped>\n",
       "    .dataframe tbody tr th:only-of-type {\n",
       "        vertical-align: middle;\n",
       "    }\n",
       "\n",
       "    .dataframe tbody tr th {\n",
       "        vertical-align: top;\n",
       "    }\n",
       "\n",
       "    .dataframe thead th {\n",
       "        text-align: right;\n",
       "    }\n",
       "</style>\n",
       "<table border=\"1\" class=\"dataframe\">\n",
       "  <thead>\n",
       "    <tr style=\"text-align: right;\">\n",
       "      <th></th>\n",
       "      <th>Label</th>\n",
       "      <th>Title</th>\n",
       "      <th>Review</th>\n",
       "    </tr>\n",
       "  </thead>\n",
       "  <tbody>\n",
       "    <tr>\n",
       "      <th>0</th>\n",
       "      <td>2</td>\n",
       "      <td>Stuning even for the non-gamer</td>\n",
       "      <td>This sound track was beautiful! It paints the ...</td>\n",
       "    </tr>\n",
       "    <tr>\n",
       "      <th>1</th>\n",
       "      <td>2</td>\n",
       "      <td>The best soundtrack ever to anything.</td>\n",
       "      <td>I'm reading a lot of reviews saying that this ...</td>\n",
       "    </tr>\n",
       "    <tr>\n",
       "      <th>2</th>\n",
       "      <td>2</td>\n",
       "      <td>Amazing!</td>\n",
       "      <td>This soundtrack is my favorite music of all ti...</td>\n",
       "    </tr>\n",
       "    <tr>\n",
       "      <th>3</th>\n",
       "      <td>2</td>\n",
       "      <td>Excellent Soundtrack</td>\n",
       "      <td>I truly like this soundtrack and I enjoy video...</td>\n",
       "    </tr>\n",
       "    <tr>\n",
       "      <th>4</th>\n",
       "      <td>2</td>\n",
       "      <td>Remember, Pull Your Jaw Off The Floor After He...</td>\n",
       "      <td>If you've played the game, you know how divine...</td>\n",
       "    </tr>\n",
       "  </tbody>\n",
       "</table>\n",
       "</div>"
      ],
      "text/plain": [
       "   Label                                              Title  \\\n",
       "0      2                     Stuning even for the non-gamer   \n",
       "1      2              The best soundtrack ever to anything.   \n",
       "2      2                                           Amazing!   \n",
       "3      2                               Excellent Soundtrack   \n",
       "4      2  Remember, Pull Your Jaw Off The Floor After He...   \n",
       "\n",
       "                                              Review  \n",
       "0  This sound track was beautiful! It paints the ...  \n",
       "1  I'm reading a lot of reviews saying that this ...  \n",
       "2  This soundtrack is my favorite music of all ti...  \n",
       "3  I truly like this soundtrack and I enjoy video...  \n",
       "4  If you've played the game, you know how divine...  "
      ]
     },
     "execution_count": 1,
     "metadata": {},
     "output_type": "execute_result"
    }
   ],
   "source": [
    "import json\n",
    "import csv\n",
    "#from bson import json_util\n",
    "import pandas as pd\n",
    " \n",
    "#comprehend = boto3.client(service_name='comprehend', region_name='region')\n",
    "import boto3 \n",
    "comprehend = boto3.client('comprehend', region_name='us-east-1')\n",
    "s3 = boto3.resource('s3')\n",
    "                \n",
    "#input_s3_url = \"s3://nlp-kc-learning/training_file.csv\"\n",
    "\n",
    "#bucket = s3.Bucket('nlp-jsears-output')\n",
    "\n",
    "#s3.copy(input_s3_url,\"nlp-jsears-output\",Key(\"training_file.csv\"))\n",
    "# get a handle on the object you want (i.e. your file)\n",
    "#obj = bucket.Object(key=u'training_file.csv')\n",
    "\n",
    "# get the object\n",
    "#response = obj.get()\n",
    "\n",
    "# read the contents of the file and split it into a list of lines\n",
    "\n",
    "#lines = response[u'Body'].read().split()\n",
    "\n",
    "#print(lines[1])\n",
    "# now iterate over those lines\n",
    "#row[0] = csv.DictReader(lines)\n",
    "#    print(json.dumps(comprehend.detect_key_phrases(Text=text, LanguageCode='en'), sort_keys=True, indent=4))\n",
    "df = pd.read_csv(\"amazon_review_polarity_csv/train.csv\", names=[\"Label\", \"Title\", \"Review\"])\n",
    "\n",
    "#df.head()\n",
    "#print(json.dumps(comprehend.detect_key_phrases(Text=df[1].Review, LanguageCode='en'), sort_keys=True, indent=4))\n",
    "\n",
    "\n"
   ]
  },
  {
   "cell_type": "code",
   "execution_count": 11,
   "metadata": {},
   "outputs": [
    {
     "name": "stdout",
     "output_type": "stream",
     "text": [
      "{\n",
      "    \"KeyPhrases\": [\n",
      "        {\n",
      "            \"BeginOffset\": 0,\n",
      "            \"EndOffset\": 1,\n",
      "            \"Score\": 0.3621712923049927,\n",
      "            \"Text\": \"0\"\n",
      "        },\n",
      "        {\n",
      "            \"BeginOffset\": 5,\n",
      "            \"EndOffset\": 21,\n",
      "            \"Score\": 0.9920889735221863,\n",
      "            \"Text\": \"This sound track\"\n",
      "        },\n",
      "        {\n",
      "            \"BeginOffset\": 61,\n",
      "            \"EndOffset\": 67,\n",
      "            \"Score\": 0.7088055610656738,\n",
      "            \"Text\": \"Review\"\n",
      "        },\n",
      "        {\n",
      "            \"BeginOffset\": 69,\n",
      "            \"EndOffset\": 74,\n",
      "            \"Score\": 0.9024353623390198,\n",
      "            \"Text\": \"dtype\"\n",
      "        }\n",
      "    ],\n",
      "    \"ResponseMetadata\": {\n",
      "        \"HTTPHeaders\": {\n",
      "            \"content-length\": \"325\",\n",
      "            \"content-type\": \"application/x-amz-json-1.1\",\n",
      "            \"date\": \"Wed, 24 Apr 2019 19:11:00 GMT\",\n",
      "            \"x-amzn-requestid\": \"b2d04f76-66c4-11e9-a930-535763ee2393\"\n",
      "        },\n",
      "        \"HTTPStatusCode\": 200,\n",
      "        \"RequestId\": \"b2d04f76-66c4-11e9-a930-535763ee2393\",\n",
      "        \"RetryAttempts\": 0\n",
      "    }\n",
      "}\n"
     ]
    }
   ],
   "source": [
    "#print(df.head(1).Review)\n",
    "val = str(df.head(1).Review)\n",
    "print(json.dumps(comprehend.detect_key_phrases(Text=val, LanguageCode='en'), sort_keys=True, indent=4))"
   ]
  },
  {
   "cell_type": "code",
   "execution_count": 20,
   "metadata": {},
   "outputs": [
    {
     "name": "stdout",
     "output_type": "stream",
     "text": [
      "start_topics_detection_job_result: {\"JobId\": \"00d7ff8cbc5b1aa078f678990e949bf6\", \"JobStatus\": \"SUBMITTED\", \"ResponseMetadata\": {\"RequestId\": \"9cbd0097-66d5-11e9-9f95-3718b6319247\", \"HTTPStatusCode\": 200, \"HTTPHeaders\": {\"x-amzn-requestid\": \"9cbd0097-66d5-11e9-9f95-3718b6319247\", \"content-type\": \"application/x-amz-json-1.1\", \"content-length\": \"68\", \"date\": \"Wed, 24 Apr 2019 21:12:05 GMT\"}, \"RetryAttempts\": 0}}\n",
      "job_id: 00d7ff8cbc5b1aa078f678990e949bf6\n",
      "\n",
      "\n",
      "\n",
      "\n",
      "describe_topics_detection_job_result: {\"TopicsDetectionJobProperties\": {\"JobId\": \"00d7ff8cbc5b1aa078f678990e949bf6\", \"JobName\": \"jsears_topics_2\", \"JobStatus\": \"SUBMITTED\", \"SubmitTime\": {\"$date\": 1556140325577}, \"InputDataConfig\": {\"S3Uri\": \"s3://nlp-kc-learning/training_file_only_content.csv\", \"InputFormat\": \"ONE_DOC_PER_LINE\"}, \"OutputDataConfig\": {\"S3Uri\": \"s3://nlp-jsears-output/output/023375022819-TOPICS-00d7ff8cbc5b1aa078f678990e949bf6/output/output.tar.gz\"}, \"NumberOfTopics\": 15, \"DataAccessRoleArn\": \"arn:aws:iam::023375022819:role/service-role/AmazonComprehendServiceRole-mark\"}, \"ResponseMetadata\": {\"RequestId\": \"9cc787e9-66d5-11e9-9f95-3718b6319247\", \"HTTPStatusCode\": 200, \"HTTPHeaders\": {\"x-amzn-requestid\": \"9cc787e9-66d5-11e9-9f95-3718b6319247\", \"content-type\": \"application/x-amz-json-1.1\", \"content-length\": \"528\", \"date\": \"Wed, 24 Apr 2019 21:12:05 GMT\"}, \"RetryAttempts\": 0}}\n",
      "\n",
      "\n",
      "\n",
      "\n",
      "list_topics_detection_jobs_result: {\"TopicsDetectionJobPropertiesList\": [{\"JobId\": \"5a52166b8da867f1292961c5b798bf63\", \"JobName\": \"NLP-J01\", \"JobStatus\": \"FAILED\", \"Message\": \"OUTPUT_BUCKET_NOT_FOUND: The provided output S3 bucket does not exist.\", \"SubmitTime\": {\"$date\": 1553103905381}, \"EndTime\": {\"$date\": 1553103924128}, \"InputDataConfig\": {\"S3Uri\": \"s3://aaaaa-nlp-team/blazingtext/supervised/train/amazon-review-polarity-csv.train\", \"InputFormat\": \"ONE_DOC_PER_LINE\"}, \"OutputDataConfig\": {\"S3Uri\": \"s3://aaaaa-nlp-team/blazingtext/supervised/output.txt/023375022819-TOPICS-5a52166b8da867f1292961c5b798bf63/output/output.tar.gz\"}, \"NumberOfTopics\": 14, \"DataAccessRoleArn\": \"arn:aws:iam::023375022819:role/service-role/AmazonComprehendServiceRole-mark\"}, {\"JobId\": \"3859ac66fecc3645075fef064b8db37a\", \"JobName\": \"nlp-job02\", \"JobStatus\": \"FAILED\", \"Message\": \"OUTPUT_BUCKET_NOT_FOUND: The provided output S3 bucket does not exist.\", \"SubmitTime\": {\"$date\": 1553105464687}, \"EndTime\": {\"$date\": 1553105473810}, \"InputDataConfig\": {\"S3Uri\": \"s3://aaaaa-nlp-team/blazingtext/supervised/train/amazon-review-polarity-csv.train\", \"InputFormat\": \"ONE_DOC_PER_LINE\"}, \"OutputDataConfig\": {\"S3Uri\": \"s3://aaaaa-nlp-team/blazingtext/supervised/train/023375022819-TOPICS-3859ac66fecc3645075fef064b8db37a/output/output.tar.gz\"}, \"NumberOfTopics\": 20, \"DataAccessRoleArn\": \"arn:aws:iam::023375022819:role/service-role/AmazonComprehendServiceRole-mark\"}, {\"JobId\": \"430634f58099b60dfbba332a8b403a8b\", \"JobName\": \"nlp-job03\", \"JobStatus\": \"FAILED\", \"Message\": \"OUTPUT_BUCKET_NOT_FOUND: The provided output S3 bucket does not exist.\", \"SubmitTime\": {\"$date\": 1553105577485}, \"EndTime\": {\"$date\": 1553105583851}, \"InputDataConfig\": {\"S3Uri\": \"s3://aaaaa-nlp-team/blazingtext/supervised/train/amazon-review-polarity-csv.train\", \"InputFormat\": \"ONE_DOC_PER_LINE\"}, \"OutputDataConfig\": {\"S3Uri\": \"s3://aaaaa-nlp-team/blazingtext/supervised/train/023375022819-TOPICS-430634f58099b60dfbba332a8b403a8b/output/output.tar.gz\"}, \"NumberOfTopics\": 20, \"DataAccessRoleArn\": \"arn:aws:iam::023375022819:role/service-role/AmazonComprehendServiceRole-mark\"}, {\"JobId\": \"302abc8f4e90ab7eea3e6c2586b4f2a3\", \"JobName\": \"nlp-job03\", \"JobStatus\": \"FAILED\", \"Message\": \"NO_WRITE_ACCESS_TO_OUTPUT: The provided data access role does not have write access to the output S3 URI.\", \"SubmitTime\": {\"$date\": 1553105847427}, \"EndTime\": {\"$date\": 1553105850268}, \"InputDataConfig\": {\"S3Uri\": \"s3://sagemaker-us-east-1-023375022819/aaaaa-nlp-team/blazingtext/supervised/train/amazon-review-polarity-csv.train\", \"InputFormat\": \"ONE_DOC_PER_LINE\"}, \"OutputDataConfig\": {\"S3Uri\": \"s3://sagemaker-us-east-1-023375022819/aaaaa-nlp-team/blazingtext/supervised/train/023375022819-TOPICS-302abc8f4e90ab7eea3e6c2586b4f2a3/output/output.tar.gz\"}, \"NumberOfTopics\": 20, \"DataAccessRoleArn\": \"arn:aws:iam::023375022819:role/service-role/AmazonComprehendServiceRole-mark\"}, {\"JobId\": \"34becad38263a9d730f6a49bfcd0f64a\", \"JobName\": \"nlp-job04\", \"JobStatus\": \"FAILED\", \"Message\": \"NO_READ_ACCESS_TO_INPUT: The provided data access role does not have proper access to the input data.\", \"SubmitTime\": {\"$date\": 1553106347436}, \"EndTime\": {\"$date\": 1553106349573}, \"InputDataConfig\": {\"S3Uri\": \"s3://sagemaker-us-east-1-023375022819/aaaaa-nlp-team/blazingtext/supervised/train/amazon-review-polarity-csv.train\", \"InputFormat\": \"ONE_DOC_PER_LINE\"}, \"OutputDataConfig\": {\"S3Uri\": \"s3://sagemaker-us-east-1-023375022819/aaaaa-nlp-team/blazingtext/supervised/train/023375022819-TOPICS-34becad38263a9d730f6a49bfcd0f64a/output/output.tar.gz\"}, \"NumberOfTopics\": 20, \"DataAccessRoleArn\": \"arn:aws:iam::023375022819:role/service-role/AmazonComprehendServiceRole-mark\"}, {\"JobId\": \"4be23dd5beeacc4f2890f3a075ad0936\", \"JobName\": \"nlp-job05\", \"JobStatus\": \"COMPLETED\", \"SubmitTime\": {\"$date\": 1553106809159}, \"EndTime\": {\"$date\": 1553108531769}, \"InputDataConfig\": {\"S3Uri\": \"s3://sagemaker-us-east-1-023375022819/aaaaa-nlp-team/blazingtext/supervised/train/amazon-review-polarity-csv.train\", \"InputFormat\": \"ONE_DOC_PER_LINE\"}, \"OutputDataConfig\": {\"S3Uri\": \"s3://sagemaker-us-east-1-023375022819/aaaaa-nlp-team/blazingtext/supervised/train/023375022819-TOPICS-4be23dd5beeacc4f2890f3a075ad0936/output/output.tar.gz\"}, \"NumberOfTopics\": 20, \"DataAccessRoleArn\": \"arn:aws:iam::023375022819:role/service-role/AmazonComprehendServiceRole-mark\"}, {\"JobId\": \"f94e8d8e86429180c6e35a7fd3c5cd14\", \"JobName\": \"nlp-job06\", \"JobStatus\": \"FAILED\", \"Message\": \"DOCUMENT_COUNT_LIMIT_EXCEEDED: Total number of input documents exceeds limit. 1000000 documents allowed for format ONE_DOC_PER_LINE. Current number of documents: 3600000.\", \"SubmitTime\": {\"$date\": 1553111996737}, \"EndTime\": {\"$date\": 1553112287084}, \"InputDataConfig\": {\"S3Uri\": \"s3://sagemaker-us-east-1-023375022819/aaaaa-nlp-team/topics-modeling/train/train.csv\", \"InputFormat\": \"ONE_DOC_PER_LINE\"}, \"OutputDataConfig\": {\"S3Uri\": \"s3://sagemaker-us-east-1-023375022819/aaaaa-nlp-team/topics-modeling/train/023375022819-TOPICS-f94e8d8e86429180c6e35a7fd3c5cd14/output/output.tar.gz\"}, \"NumberOfTopics\": 20, \"DataAccessRoleArn\": \"arn:aws:iam::023375022819:role/service-role/AmazonComprehendServiceRole-mark\"}, {\"JobId\": \"305f545836a380d3a637988126a590ae\", \"JobName\": \"nlp-job07\", \"JobStatus\": \"FAILED\", \"Message\": \"SINGLE_FILE_SIZE_LIMIT_EXCEEDED: File: aaaaa-nlp-team/topics-modeling/train/train.csv exceeds size limit. 104857600 bytes allowed for ONE_DOC_PER_FILE format.\", \"SubmitTime\": {\"$date\": 1553112650021}, \"EndTime\": {\"$date\": 1553112652108}, \"InputDataConfig\": {\"S3Uri\": \"s3://sagemaker-us-east-1-023375022819/aaaaa-nlp-team/topics-modeling/train/train.csv\", \"InputFormat\": \"ONE_DOC_PER_FILE\"}, \"OutputDataConfig\": {\"S3Uri\": \"s3://sagemaker-us-east-1-023375022819/aaaaa-nlp-team/topics-modeling/train/023375022819-TOPICS-305f545836a380d3a637988126a590ae/output/output.tar.gz\"}, \"NumberOfTopics\": 20, \"DataAccessRoleArn\": \"arn:aws:iam::023375022819:role/service-role/AmazonComprehendServiceRole-mark\"}, {\"JobId\": \"4dd5d5075503d4fafe5c4831230cf663\", \"JobName\": \"nlp-job06\", \"JobStatus\": \"COMPLETED\", \"SubmitTime\": {\"$date\": 1553113852631}, \"EndTime\": {\"$date\": 1553115032188}, \"InputDataConfig\": {\"S3Uri\": \"s3://sagemaker-us-east-1-023375022819/aaaaa-nlp-team/blazingtext/supervised/validation/amazon-review-polarity-csv.validation\", \"InputFormat\": \"ONE_DOC_PER_LINE\"}, \"OutputDataConfig\": {\"S3Uri\": \"s3://sagemaker-us-east-1-023375022819/aaaaa-nlp-team/topics-modeling/023375022819-TOPICS-4dd5d5075503d4fafe5c4831230cf663/output/output.tar.gz\"}, \"NumberOfTopics\": 20, \"DataAccessRoleArn\": \"arn:aws:iam::023375022819:role/service-role/AmazonComprehendServiceRole-mark\"}, {\"JobId\": \"b8fbce4397ab10e51ea304ed2f040559\", \"JobStatus\": \"FAILED\", \"Message\": \"NO_WRITE_ACCESS_TO_OUTPUT: The provided data access role does not have write access to the output S3 URI.\", \"SubmitTime\": {\"$date\": 1556054427388}, \"EndTime\": {\"$date\": 1556054440731}, \"InputDataConfig\": {\"S3Uri\": \"s3://nlp-kc-learning/training_file.csv\", \"InputFormat\": \"ONE_DOC_PER_FILE\"}, \"OutputDataConfig\": {\"S3Uri\": \"s3://nlp-kc-learning/test_output.csv/023375022819-TOPICS-b8fbce4397ab10e51ea304ed2f040559/output/output.tar.gz\"}, \"NumberOfTopics\": 10, \"DataAccessRoleArn\": \"arn:aws:iam::023375022819:role/service-role/AmazonSageMaker-ExecutionRole-20181029T121824\"}, {\"JobId\": \"e40f5b5fefb7181b29873e485ea201ee\", \"JobStatus\": \"FAILED\", \"Message\": \"NO_WRITE_ACCESS_TO_OUTPUT: The provided data access role does not have write access to the output S3 URI.\", \"SubmitTime\": {\"$date\": 1556054469735}, \"EndTime\": {\"$date\": 1556054471790}, \"InputDataConfig\": {\"S3Uri\": \"s3://nlp-kc-learning/training_file.csv\", \"InputFormat\": \"ONE_DOC_PER_FILE\"}, \"OutputDataConfig\": {\"S3Uri\": \"s3://nlp-kc-learning/test_output.csv/023375022819-TOPICS-e40f5b5fefb7181b29873e485ea201ee/output/output.tar.gz\"}, \"NumberOfTopics\": 10, \"DataAccessRoleArn\": \"arn:aws:iam::023375022819:role/service-role/AmazonSageMaker-ExecutionRole-20181029T121824\"}, {\"JobId\": \"1aa03c0e45d40d68f242dac7e853c99e\", \"JobStatus\": \"FAILED\", \"Message\": \"NO_WRITE_ACCESS_TO_OUTPUT: The provided data access role does not have write access to the output S3 URI.\", \"SubmitTime\": {\"$date\": 1556055634501}, \"EndTime\": {\"$date\": 1556055638169}, \"InputDataConfig\": {\"S3Uri\": \"s3://nlp-kc-learning/training_file.csv\", \"InputFormat\": \"ONE_DOC_PER_FILE\"}, \"OutputDataConfig\": {\"S3Uri\": \"s3://nlp-kc-learning/test_output.csv/023375022819-TOPICS-1aa03c0e45d40d68f242dac7e853c99e/output/output.tar.gz\"}, \"NumberOfTopics\": 10, \"DataAccessRoleArn\": \"arn:aws:iam::023375022819:role/service-role/AmazonSageMaker-ExecutionRole-20181029T121824\"}, {\"JobId\": \"0f2db3155afbfa98ddf21d155c9943c3\", \"JobStatus\": \"FAILED\", \"Message\": \"NO_WRITE_ACCESS_TO_OUTPUT: The provided data access role does not have write access to the output S3 URI.\", \"SubmitTime\": {\"$date\": 1556055648338}, \"EndTime\": {\"$date\": 1556055650145}, \"InputDataConfig\": {\"S3Uri\": \"s3://nlp-kc-learning/training_file.csv\", \"InputFormat\": \"ONE_DOC_PER_FILE\"}, \"OutputDataConfig\": {\"S3Uri\": \"s3://nlp-kc-learning/test_output.csv/023375022819-TOPICS-0f2db3155afbfa98ddf21d155c9943c3/output/output.tar.gz\"}, \"NumberOfTopics\": 10, \"DataAccessRoleArn\": \"arn:aws:iam::023375022819:role/service-role/AmazonSageMaker-ExecutionRole-20181029T121824\"}, {\"JobId\": \"a195fbbecb7a6ffdc2aed6e402253975\", \"JobStatus\": \"FAILED\", \"Message\": \"NO_WRITE_ACCESS_TO_OUTPUT: The provided data access role does not have write access to the output S3 URI.\", \"SubmitTime\": {\"$date\": 1556055800356}, \"EndTime\": {\"$date\": 1556055803070}, \"InputDataConfig\": {\"S3Uri\": \"s3://nlp-kc-learning/training_file.csv\", \"InputFormat\": \"ONE_DOC_PER_LINE\"}, \"OutputDataConfig\": {\"S3Uri\": \"s3://nlp-kc-learning/test_output.csv/023375022819-TOPICS-a195fbbecb7a6ffdc2aed6e402253975/output/output.tar.gz\"}, \"NumberOfTopics\": 10, \"DataAccessRoleArn\": \"arn:aws:iam::023375022819:role/service-role/AmazonSageMaker-ExecutionRole-20181029T121824\"}, {\"JobId\": \"bbe9bde5b0bac5f9042d381f79c84f3f\", \"JobStatus\": \"FAILED\", \"Message\": \"NO_WRITE_ACCESS_TO_OUTPUT: The provided data access role does not have write access to the output S3 URI.\", \"SubmitTime\": {\"$date\": 1556056136365}, \"EndTime\": {\"$date\": 1556056139170}, \"InputDataConfig\": {\"S3Uri\": \"s3://nlp-kc-learning/training_file.csv\", \"InputFormat\": \"ONE_DOC_PER_LINE\"}, \"OutputDataConfig\": {\"S3Uri\": \"s3://nlp-kc-learning/test_output.csv/023375022819-TOPICS-bbe9bde5b0bac5f9042d381f79c84f3f/output/output.tar.gz\"}, \"NumberOfTopics\": 10, \"DataAccessRoleArn\": \"arn:aws:iam::023375022819:role/service-role/AmazonSageMaker-ExecutionRole-20181029T121824\"}, {\"JobId\": \"4df852f4df624d579a767ebc5c6f170d\", \"JobStatus\": \"FAILED\", \"Message\": \"NO_WRITE_ACCESS_TO_OUTPUT: The provided data access role does not have write access to the output S3 URI.\", \"SubmitTime\": {\"$date\": 1556119257151}, \"EndTime\": {\"$date\": 1556119292017}, \"InputDataConfig\": {\"S3Uri\": \"s3://nlp-kc-learning/training_file.csv\", \"InputFormat\": \"ONE_DOC_PER_LINE\"}, \"OutputDataConfig\": {\"S3Uri\": \"s3://nlp-kc-learning/test_output.csv/023375022819-TOPICS-4df852f4df624d579a767ebc5c6f170d/output/output.tar.gz\"}, \"NumberOfTopics\": 10, \"DataAccessRoleArn\": \"arn:aws:iam::023375022819:role/service-role/AmazonSageMaker-ExecutionRole-20181029T121824\"}, {\"JobId\": \"21f93da4dc44b9dea88408600d0c7801\", \"JobStatus\": \"FAILED\", \"Message\": \"NO_WRITE_ACCESS_TO_OUTPUT: The provided data access role does not have write access to the output S3 URI.\", \"SubmitTime\": {\"$date\": 1556119264020}, \"EndTime\": {\"$date\": 1556119277275}, \"InputDataConfig\": {\"S3Uri\": \"s3://nlp-kc-learning/training_file.csv\", \"InputFormat\": \"ONE_DOC_PER_LINE\"}, \"OutputDataConfig\": {\"S3Uri\": \"s3://nlp-kc-learning/test_output.csv/023375022819-TOPICS-21f93da4dc44b9dea88408600d0c7801/output/output.tar.gz\"}, \"NumberOfTopics\": 10, \"DataAccessRoleArn\": \"arn:aws:iam::023375022819:role/service-role/AmazonSageMaker-ExecutionRole-20181029T121824\"}, {\"JobId\": \"c2298385891563d169dc63300cdf078d\", \"JobStatus\": \"FAILED\", \"Message\": \"NO_WRITE_ACCESS_TO_OUTPUT: The provided data access role does not have write access to the output S3 URI.\", \"SubmitTime\": {\"$date\": 1556119277666}, \"EndTime\": {\"$date\": 1556119280156}, \"InputDataConfig\": {\"S3Uri\": \"s3://nlp-kc-learning/training_file.csv\", \"InputFormat\": \"ONE_DOC_PER_LINE\"}, \"OutputDataConfig\": {\"S3Uri\": \"s3://nlp-kc-learning/test_output.csv/023375022819-TOPICS-c2298385891563d169dc63300cdf078d/output/output.tar.gz\"}, \"NumberOfTopics\": 10, \"DataAccessRoleArn\": \"arn:aws:iam::023375022819:role/service-role/AmazonSageMaker-ExecutionRole-20181029T121824\"}, {\"JobId\": \"32646b16645fd3a92d592f713ee2f361\", \"JobStatus\": \"FAILED\", \"Message\": \"NO_WRITE_ACCESS_TO_OUTPUT: The provided data access role does not have write access to the output S3 URI.\", \"SubmitTime\": {\"$date\": 1556119519977}, \"EndTime\": {\"$date\": 1556119530615}, \"InputDataConfig\": {\"S3Uri\": \"s3://nlp-kc-learning/comprehend_input\", \"InputFormat\": \"ONE_DOC_PER_LINE\"}, \"OutputDataConfig\": {\"S3Uri\": \"s3://nlp-kc-learning/comprehend_output/023375022819-TOPICS-32646b16645fd3a92d592f713ee2f361/output/output.tar.gz\"}, \"NumberOfTopics\": 10, \"DataAccessRoleArn\": \"arn:aws:iam::023375022819:role/service-role/AmazonSageMaker-ExecutionRole-20181029T121824\"}, {\"JobId\": \"81fd802fd373330d2916dfc1674a370b\", \"JobStatus\": \"FAILED\", \"Message\": \"NO_WRITE_ACCESS_TO_OUTPUT: The provided data access role does not have write access to the output S3 URI.\", \"SubmitTime\": {\"$date\": 1556119827441}, \"EndTime\": {\"$date\": 1556119829731}, \"InputDataConfig\": {\"S3Uri\": \"s3://nlp-kc-learning/training_file.csv\", \"InputFormat\": \"ONE_DOC_PER_LINE\"}, \"OutputDataConfig\": {\"S3Uri\": \"s3://nlp-kc-learning/comprehend_output/023375022819-TOPICS-81fd802fd373330d2916dfc1674a370b/output/output.tar.gz\"}, \"NumberOfTopics\": 10, \"DataAccessRoleArn\": \"arn:aws:iam::023375022819:role/service-role/AmazonSageMaker-ExecutionRole-20181029T121824\"}, {\"JobId\": \"8aaf7ce4046d3fb029cc77b2901ae490\", \"JobStatus\": \"FAILED\", \"Message\": \"NO_WRITE_ACCESS_TO_OUTPUT: The provided data access role does not have write access to the output S3 URI.\", \"SubmitTime\": {\"$date\": 1556119887304}, \"EndTime\": {\"$date\": 1556119889249}, \"InputDataConfig\": {\"S3Uri\": \"s3://nlp-kc-learning/training_file.csv\", \"InputFormat\": \"ONE_DOC_PER_LINE\"}, \"OutputDataConfig\": {\"S3Uri\": \"s3://nlp-kc-learning/comprehend_output/023375022819-TOPICS-8aaf7ce4046d3fb029cc77b2901ae490/output/output.tar.gz\"}, \"NumberOfTopics\": 10, \"DataAccessRoleArn\": \"arn:aws:iam::023375022819:role/service-role/AmazonSageMaker-ExecutionRole-20181029T121824\"}, {\"JobId\": \"c930c86447eeae4fa5e364d105bf9b6a\", \"JobStatus\": \"FAILED\", \"Message\": \"NO_WRITE_ACCESS_TO_OUTPUT: The provided data access role does not have write access to the output S3 URI.\", \"SubmitTime\": {\"$date\": 1556120052667}, \"EndTime\": {\"$date\": 1556120054755}, \"InputDataConfig\": {\"S3Uri\": \"s3://nlp-kc-learning/training_file.csv\", \"InputFormat\": \"ONE_DOC_PER_LINE\"}, \"OutputDataConfig\": {\"S3Uri\": \"s3://nlp-kc-learning/023375022819-TOPICS-c930c86447eeae4fa5e364d105bf9b6a/output/output.tar.gz\"}, \"NumberOfTopics\": 10, \"DataAccessRoleArn\": \"arn:aws:iam::023375022819:role/service-role/AmazonSageMaker-ExecutionRole-20181029T121824\"}, {\"JobId\": \"fb1fa70bbb620504b1ef38222f86ce41\", \"JobStatus\": \"FAILED\", \"Message\": \"NO_WRITE_ACCESS_TO_OUTPUT: The provided data access role does not have write access to the output S3 URI.\", \"SubmitTime\": {\"$date\": 1556120109213}, \"EndTime\": {\"$date\": 1556120110655}, \"InputDataConfig\": {\"S3Uri\": \"s3://nlp-kc-learning/training_file.csv\", \"InputFormat\": \"ONE_DOC_PER_LINE\"}, \"OutputDataConfig\": {\"S3Uri\": \"s3://nlp-kc-learning/jsears-out.dat/023375022819-TOPICS-fb1fa70bbb620504b1ef38222f86ce41/output/output.tar.gz\"}, \"NumberOfTopics\": 10, \"DataAccessRoleArn\": \"arn:aws:iam::023375022819:role/service-role/AmazonSageMaker-ExecutionRole-20181029T121824\"}, {\"JobId\": \"30147a50a6d7865207327479c477ea9f\", \"JobStatus\": \"FAILED\", \"Message\": \"NO_WRITE_ACCESS_TO_OUTPUT: The provided data access role does not have write access to the output S3 URI.\", \"SubmitTime\": {\"$date\": 1556120137067}, \"EndTime\": {\"$date\": 1556120139750}, \"InputDataConfig\": {\"S3Uri\": \"s3://nlp-kc-learning/training_file.csv\", \"InputFormat\": \"ONE_DOC_PER_LINE\"}, \"OutputDataConfig\": {\"S3Uri\": \"s3://nlp-kc-learning/023375022819-TOPICS-30147a50a6d7865207327479c477ea9f/output/output.tar.gz\"}, \"NumberOfTopics\": 10, \"DataAccessRoleArn\": \"arn:aws:iam::023375022819:role/service-role/AmazonSageMaker-ExecutionRole-20181029T121824\"}, {\"JobId\": \"f18d39dfd499a5b9b49fb1de9f056e17\", \"JobStatus\": \"FAILED\", \"Message\": \"NO_WRITE_ACCESS_TO_OUTPUT: The provided data access role does not have write access to the output S3 URI.\", \"SubmitTime\": {\"$date\": 1556120313926}, \"EndTime\": {\"$date\": 1556120315910}, \"InputDataConfig\": {\"S3Uri\": \"s3://nlp-kc-learning/training_file.csv\", \"InputFormat\": \"ONE_DOC_PER_LINE\"}, \"OutputDataConfig\": {\"S3Uri\": \"s3://023375022819-sagemaker-us-east-1/023375022819-TOPICS-f18d39dfd499a5b9b49fb1de9f056e17/output/output.tar.gz\"}, \"NumberOfTopics\": 10, \"DataAccessRoleArn\": \"arn:aws:iam::023375022819:role/service-role/AmazonSageMaker-ExecutionRole-20181029T121824\"}, {\"JobId\": \"6ef6022048ae14e383595fd5fce0c2f1\", \"JobStatus\": \"FAILED\", \"Message\": \"NO_WRITE_ACCESS_TO_OUTPUT: The provided data access role does not have write access to the output S3 URI.\", \"SubmitTime\": {\"$date\": 1556120757964}, \"EndTime\": {\"$date\": 1556120761909}, \"InputDataConfig\": {\"S3Uri\": \"s3://nlp-kc-learning/training_file.csv\", \"InputFormat\": \"ONE_DOC_PER_LINE\"}, \"OutputDataConfig\": {\"S3Uri\": \"s3://023375022819-sagemaker-us-east-1/023375022819-TOPICS-6ef6022048ae14e383595fd5fce0c2f1/output/output.tar.gz\"}, \"NumberOfTopics\": 10, \"DataAccessRoleArn\": \"arn:aws:iam::023375022819:role/service-role/AmazonSageMaker-ExecutionRole-20181029T121824\"}, {\"JobId\": \"748e0ba2d8edc9b3d8c20ebd4d5c27ca\", \"JobStatus\": \"FAILED\", \"Message\": \"NO_WRITE_ACCESS_TO_OUTPUT: The provided data access role does not have write access to the output S3 URI.\", \"SubmitTime\": {\"$date\": 1556121204392}, \"EndTime\": {\"$date\": 1556121240434}, \"InputDataConfig\": {\"S3Uri\": \"s3://nlp-kc-learning/training_file.csv\", \"InputFormat\": \"ONE_DOC_PER_LINE\"}, \"OutputDataConfig\": {\"S3Uri\": \"s3://023375022819-sagemaker-us-east-1/023375022819-TOPICS-748e0ba2d8edc9b3d8c20ebd4d5c27ca/output/output.tar.gz\"}, \"NumberOfTopics\": 10, \"DataAccessRoleArn\": \"arn:aws:iam::023375022819:role/service-role/AmazonSageMaker-ExecutionRole-20181029T121824\"}, {\"JobId\": \"4ceaa61054a28ba1b9472c66bb5d5511\", \"JobStatus\": \"FAILED\", \"Message\": \"NO_WRITE_ACCESS_TO_OUTPUT: The provided data access role does not have write access to the output S3 URI.\", \"SubmitTime\": {\"$date\": 1556122695578}, \"EndTime\": {\"$date\": 1556122708598}, \"InputDataConfig\": {\"S3Uri\": \"s3://nlp-kc-learning/training_file.csv\", \"InputFormat\": \"ONE_DOC_PER_LINE\"}, \"OutputDataConfig\": {\"S3Uri\": \"s3://nlp-kc-learning/jsears-out.dat/023375022819-TOPICS-4ceaa61054a28ba1b9472c66bb5d5511/output/output.tar.gz\"}, \"NumberOfTopics\": 10, \"DataAccessRoleArn\": \"arn:aws:iam::023375022819:role/service-role/AmazonSageMaker-ExecutionRole-20181029T121824\"}, {\"JobId\": \"2b2c9ba076de9af337b102be3250750c\", \"JobStatus\": \"FAILED\", \"Message\": \"NO_WRITE_ACCESS_TO_OUTPUT: The provided data access role does not have write access to the output S3 URI.\", \"SubmitTime\": {\"$date\": 1556122765883}, \"EndTime\": {\"$date\": 1556122767370}, \"InputDataConfig\": {\"S3Uri\": \"s3://nlp-kc-learning/training_file.csv\", \"InputFormat\": \"ONE_DOC_PER_LINE\"}, \"OutputDataConfig\": {\"S3Uri\": \"s3://nlp-kc-learning/jsears-out.dat/023375022819-TOPICS-2b2c9ba076de9af337b102be3250750c/output/output.tar.gz\"}, \"NumberOfTopics\": 10, \"DataAccessRoleArn\": \"arn:aws:iam::023375022819:role/service-role/AmazonSageMaker-ExecutionRole-20181029T121824\"}, {\"JobId\": \"0778ed8b889344c15b1f0b66c9dfabb4\", \"JobStatus\": \"FAILED\", \"Message\": \"NO_WRITE_ACCESS_TO_OUTPUT: The provided data access role does not have write access to the output S3 URI.\", \"SubmitTime\": {\"$date\": 1556122896987}, \"EndTime\": {\"$date\": 1556122899390}, \"InputDataConfig\": {\"S3Uri\": \"s3://nlp-kc-learning/training_file.csv\", \"InputFormat\": \"ONE_DOC_PER_LINE\"}, \"OutputDataConfig\": {\"S3Uri\": \"s3://nlp-jsears-output/jsears-out.dat/023375022819-TOPICS-0778ed8b889344c15b1f0b66c9dfabb4/output/output.tar.gz\"}, \"NumberOfTopics\": 10, \"DataAccessRoleArn\": \"arn:aws:iam::023375022819:role/service-role/AmazonSageMaker-ExecutionRole-20181029T121824\"}, {\"JobId\": \"52604aeb2ad0c840f92038091838a8d5\", \"JobStatus\": \"FAILED\", \"Message\": \"NO_WRITE_ACCESS_TO_OUTPUT: The provided data access role does not have write access to the output S3 URI.\", \"SubmitTime\": {\"$date\": 1556122926349}, \"EndTime\": {\"$date\": 1556122927670}, \"InputDataConfig\": {\"S3Uri\": \"s3://nlp-kc-learning/training_file.csv\", \"InputFormat\": \"ONE_DOC_PER_LINE\"}, \"OutputDataConfig\": {\"S3Uri\": \"s3://nlp-jsears-output/023375022819-TOPICS-52604aeb2ad0c840f92038091838a8d5/output/output.tar.gz\"}, \"NumberOfTopics\": 10, \"DataAccessRoleArn\": \"arn:aws:iam::023375022819:role/service-role/AmazonSageMaker-ExecutionRole-20181029T121824\"}, {\"JobId\": \"89c377db914704e23ff874f177973c80\", \"JobStatus\": \"FAILED\", \"Message\": \"NO_WRITE_ACCESS_TO_OUTPUT: The provided data access role does not have write access to the output S3 URI.\", \"SubmitTime\": {\"$date\": 1556122956494}, \"EndTime\": {\"$date\": 1556122991490}, \"InputDataConfig\": {\"S3Uri\": \"s3://nlp-kc-learning/training_file.csv\", \"InputFormat\": \"ONE_DOC_PER_LINE\"}, \"OutputDataConfig\": {\"S3Uri\": \"s3://nlp-jsears-output/023375022819-TOPICS-89c377db914704e23ff874f177973c80/output/output.tar.gz\"}, \"NumberOfTopics\": 10, \"DataAccessRoleArn\": \"arn:aws:iam::023375022819:role/service-role/AmazonSageMaker-ExecutionRole-20181029T121824\"}, {\"JobId\": \"55688ad00f2a6447449e7b294b5ffda3\", \"JobStatus\": \"FAILED\", \"Message\": \"NO_WRITE_ACCESS_TO_OUTPUT: The provided data access role does not have write access to the output S3 URI.\", \"SubmitTime\": {\"$date\": 1556123099168}, \"EndTime\": {\"$date\": 1556123101554}, \"InputDataConfig\": {\"S3Uri\": \"s3://nlp-kc-learning/training_file.csv\", \"InputFormat\": \"ONE_DOC_PER_LINE\"}, \"OutputDataConfig\": {\"S3Uri\": \"s3://nlp-jsears-output/output/023375022819-TOPICS-55688ad00f2a6447449e7b294b5ffda3/output/output.tar.gz\"}, \"NumberOfTopics\": 10, \"DataAccessRoleArn\": \"arn:aws:iam::023375022819:role/service-role/AmazonSageMaker-ExecutionRole-20181029T121824\"}, {\"JobId\": \"378733b5117036999247c875218a4d57\", \"JobStatus\": \"FAILED\", \"Message\": \"NO_WRITE_ACCESS_TO_OUTPUT: The provided data access role does not have write access to the output S3 URI.\", \"SubmitTime\": {\"$date\": 1556123203719}, \"EndTime\": {\"$date\": 1556123204929}, \"InputDataConfig\": {\"S3Uri\": \"s3://nlp-kc-learning/training_file_only_content.csv\", \"InputFormat\": \"ONE_DOC_PER_FILE\"}, \"OutputDataConfig\": {\"S3Uri\": \"s3://nlp-kc-learning/dhageman_output/023375022819-TOPICS-378733b5117036999247c875218a4d57/output/output.tar.gz\"}, \"NumberOfTopics\": 10, \"DataAccessRoleArn\": \"arn:aws:iam::023375022819:role/ComprehendFullAccess\"}, {\"JobId\": \"971ff8dd30242350d068c42f94070584\", \"JobStatus\": \"FAILED\", \"Message\": \"NO_WRITE_ACCESS_TO_OUTPUT: The provided data access role does not have write access to the output S3 URI.\", \"SubmitTime\": {\"$date\": 1556123305378}, \"EndTime\": {\"$date\": 1556123308094}, \"InputDataConfig\": {\"S3Uri\": \"s3://nlp-kc-learning/training_file_only_content.csv\", \"InputFormat\": \"ONE_DOC_PER_FILE\"}, \"OutputDataConfig\": {\"S3Uri\": \"s3://nlp-kc-learning/dhageman_output/023375022819-TOPICS-971ff8dd30242350d068c42f94070584/output/output.tar.gz\"}, \"NumberOfTopics\": 10, \"DataAccessRoleArn\": \"arn:aws:iam::023375022819:role/ComprehendFullAccess\"}, {\"JobId\": \"17504813346d02a510f90060bfb4f489\", \"JobStatus\": \"FAILED\", \"Message\": \"NO_WRITE_ACCESS_TO_OUTPUT: The provided data access role does not have write access to the output S3 URI.\", \"SubmitTime\": {\"$date\": 1556123341714}, \"EndTime\": {\"$date\": 1556123343429}, \"InputDataConfig\": {\"S3Uri\": \"s3://nlp-kc-learning/training_file.csv\", \"InputFormat\": \"ONE_DOC_PER_LINE\"}, \"OutputDataConfig\": {\"S3Uri\": \"s3://nlp-jsears-output/output/023375022819-TOPICS-17504813346d02a510f90060bfb4f489/output/output.tar.gz\"}, \"NumberOfTopics\": 10, \"DataAccessRoleArn\": \"arn:aws:iam::023375022819:role/service-role/AmazonSageMaker-ExecutionRole-20181029T121824\"}, {\"JobId\": \"da311a574e9fb7c2436a664193091018\", \"JobStatus\": \"FAILED\", \"Message\": \"NO_WRITE_ACCESS_TO_OUTPUT: The provided data access role does not have write access to the output S3 URI.\", \"SubmitTime\": {\"$date\": 1556123356345}, \"EndTime\": {\"$date\": 1556123358034}, \"InputDataConfig\": {\"S3Uri\": \"s3://nlp-kc-learning/training_file_only_content.csv\", \"InputFormat\": \"ONE_DOC_PER_FILE\"}, \"OutputDataConfig\": {\"S3Uri\": \"s3://nlp-kc-learning/dhageman_output/023375022819-TOPICS-da311a574e9fb7c2436a664193091018/output/output.tar.gz\"}, \"NumberOfTopics\": 10, \"DataAccessRoleArn\": \"arn:aws:iam::023375022819:role/ComprehendFullAccess\"}, {\"JobId\": \"56ef5c96f5ba21c50c8c667fb8f4c98f\", \"JobStatus\": \"FAILED\", \"Message\": \"NO_WRITE_ACCESS_TO_OUTPUT: The provided data access role does not have write access to the output S3 URI.\", \"SubmitTime\": {\"$date\": 1556123383606}, \"EndTime\": {\"$date\": 1556123385190}, \"InputDataConfig\": {\"S3Uri\": \"s3://nlp-kc-learning/training_file_only_content.csv\", \"InputFormat\": \"ONE_DOC_PER_FILE\"}, \"OutputDataConfig\": {\"S3Uri\": \"s3://nlp-kc-learning/dhageman_output/023375022819-TOPICS-56ef5c96f5ba21c50c8c667fb8f4c98f/output/output.tar.gz\"}, \"NumberOfTopics\": 10, \"DataAccessRoleArn\": \"arn:aws:iam::023375022819:role/ComprehendFullAccess\"}, {\"JobId\": \"1cfa376c040aff081496d7946fa6bc3f\", \"JobStatus\": \"FAILED\", \"Message\": \"NO_WRITE_ACCESS_TO_OUTPUT: The provided data access role does not have write access to the output S3 URI.\", \"SubmitTime\": {\"$date\": 1556123385418}, \"EndTime\": {\"$date\": 1556123387650}, \"InputDataConfig\": {\"S3Uri\": \"s3://nlp-kc-learning/training_file.csv\", \"InputFormat\": \"ONE_DOC_PER_LINE\"}, \"OutputDataConfig\": {\"S3Uri\": \"s3://nlp-jsears-output/023375022819-TOPICS-1cfa376c040aff081496d7946fa6bc3f/output/output.tar.gz\"}, \"NumberOfTopics\": 10, \"DataAccessRoleArn\": \"arn:aws:iam::023375022819:role/service-role/AmazonSageMaker-ExecutionRole-20181029T121824\"}, {\"JobId\": \"4fd778efe38f5b0a5fa2b73e7a1efdaf\", \"JobStatus\": \"FAILED\", \"Message\": \"NO_WRITE_ACCESS_TO_OUTPUT: The provided data access role does not have write access to the output S3 URI.\", \"SubmitTime\": {\"$date\": 1556123451524}, \"EndTime\": {\"$date\": 1556123453890}, \"InputDataConfig\": {\"S3Uri\": \"s3://nlp-kc-learning/training_file.csv\", \"InputFormat\": \"ONE_DOC_PER_LINE\"}, \"OutputDataConfig\": {\"S3Uri\": \"s3://nlp-jsears-output/023375022819-TOPICS-4fd778efe38f5b0a5fa2b73e7a1efdaf/output/output.tar.gz\"}, \"NumberOfTopics\": 10, \"DataAccessRoleArn\": \"arn:aws:iam::023375022819:role/service-role/AmazonSageMaker-ExecutionRole-20181029T121824\"}, {\"JobId\": \"22e55695635afb9fda8874dcf229e015\", \"JobStatus\": \"FAILED\", \"Message\": \"NO_WRITE_ACCESS_TO_OUTPUT: The provided data access role does not have write access to the output S3 URI.\", \"SubmitTime\": {\"$date\": 1556123469358}, \"EndTime\": {\"$date\": 1556123470850}, \"InputDataConfig\": {\"S3Uri\": \"s3://nlp-kc-learning/training_file_only_content.csv\", \"InputFormat\": \"ONE_DOC_PER_FILE\"}, \"OutputDataConfig\": {\"S3Uri\": \"s3://nlp-kc-learning/dhageman_output/023375022819-TOPICS-22e55695635afb9fda8874dcf229e015/output/output.tar.gz\"}, \"NumberOfTopics\": 10, \"DataAccessRoleArn\": \"arn:aws:iam::023375022819:role/service-role/AmazonSageMaker-ExecutionRole-20181029T121824\"}, {\"JobId\": \"836422594e0481d26e73a85b81b53b93\", \"JobStatus\": \"FAILED\", \"Message\": \"NO_WRITE_ACCESS_TO_OUTPUT: The provided data access role does not have write access to the output S3 URI.\", \"SubmitTime\": {\"$date\": 1556123524242}, \"EndTime\": {\"$date\": 1556123526535}, \"InputDataConfig\": {\"S3Uri\": \"s3://nlp-kc-learning/training_file_only_content.csv\", \"InputFormat\": \"ONE_DOC_PER_FILE\"}, \"OutputDataConfig\": {\"S3Uri\": \"s3://nlp-kc-learning/dhageman/023375022819-TOPICS-836422594e0481d26e73a85b81b53b93/output/output.tar.gz\"}, \"NumberOfTopics\": 10, \"DataAccessRoleArn\": \"arn:aws:iam::023375022819:role/service-role/AmazonSageMaker-ExecutionRole-20181029T121824\"}, {\"JobId\": \"641ff42b7d1def05660a36b45a5b5902\", \"JobStatus\": \"FAILED\", \"Message\": \"DOCUMENT_COUNT_LIMIT_EXCEEDED: Total number of input documents exceeds limit. 1000000 documents allowed for format ONE_DOC_PER_LINE. Current number of documents: 1800001.\", \"SubmitTime\": {\"$date\": 1556123707458}, \"EndTime\": {\"$date\": 1556123982976}, \"InputDataConfig\": {\"S3Uri\": \"s3://nlp-kc-learning/training_file.csv\", \"InputFormat\": \"ONE_DOC_PER_LINE\"}, \"OutputDataConfig\": {\"S3Uri\": \"s3://023375022819-sagemaker-us-east-1/023375022819-TOPICS-641ff42b7d1def05660a36b45a5b5902/output/output.tar.gz\"}, \"NumberOfTopics\": 10, \"DataAccessRoleArn\": \"arn:aws:iam::023375022819:role/service-role/AmazonComprehendServiceRole-mark\"}, {\"JobId\": \"55473b645e3feb2f851f81805351abe0\", \"JobStatus\": \"FAILED\", \"Message\": \"DOCUMENT_COUNT_LIMIT_EXCEEDED: Total number of input documents exceeds limit. 1000000 documents allowed for format ONE_DOC_PER_LINE. Current number of documents: 1800001.\", \"SubmitTime\": {\"$date\": 1556123734281}, \"EndTime\": {\"$date\": 1556124011879}, \"InputDataConfig\": {\"S3Uri\": \"s3://nlp-kc-learning/training_file.csv\", \"InputFormat\": \"ONE_DOC_PER_LINE\"}, \"OutputDataConfig\": {\"S3Uri\": \"s3://023375022819-sagemaker-us-east-1/023375022819-TOPICS-55473b645e3feb2f851f81805351abe0/output/output.tar.gz\"}, \"NumberOfTopics\": 10, \"DataAccessRoleArn\": \"arn:aws:iam::023375022819:role/service-role/AmazonComprehendServiceRole-mark\"}, {\"JobId\": \"b6ef3045c958a4b3e64a0301e59fe2ca\", \"JobStatus\": \"FAILED\", \"Message\": \"SINGLE_FILE_SIZE_LIMIT_EXCEEDED: File: training_file_only_content.csv exceeds size limit. 104857600 bytes allowed for ONE_DOC_PER_FILE format.\", \"SubmitTime\": {\"$date\": 1556123789798}, \"EndTime\": {\"$date\": 1556123791969}, \"InputDataConfig\": {\"S3Uri\": \"s3://nlp-kc-learning/training_file_only_content.csv\", \"InputFormat\": \"ONE_DOC_PER_FILE\"}, \"OutputDataConfig\": {\"S3Uri\": \"s3://nlp-kc-learning/dhageman/023375022819-TOPICS-b6ef3045c958a4b3e64a0301e59fe2ca/output/output.tar.gz\"}, \"NumberOfTopics\": 10, \"DataAccessRoleArn\": \"arn:aws:iam::023375022819:role/service-role/AmazonComprehendServiceRole-mark\"}, {\"JobId\": \"a6715ca00dbae3b5bcdea22534bf4e7d\", \"JobStatus\": \"FAILED\", \"Message\": \"NO_WRITE_ACCESS_TO_OUTPUT: The provided data access role does not have write access to the output S3 URI.\", \"SubmitTime\": {\"$date\": 1556123911077}, \"EndTime\": {\"$date\": 1556123912930}, \"InputDataConfig\": {\"S3Uri\": \"s3://nlp-kc-learning/training_file_only_content.csv\", \"InputFormat\": \"ONE_DOC_PER_FILE\"}, \"OutputDataConfig\": {\"S3Uri\": \"s3://nlp-kc-learning/dhageman/023375022819-TOPICS-a6715ca00dbae3b5bcdea22534bf4e7d/output/output.tar.gz\"}, \"NumberOfTopics\": 10, \"DataAccessRoleArn\": \"arn:aws:iam::023375022819:role/ComprehendFullAccess\"}, {\"JobId\": \"aeb3d8f9a44452fe2492a270e9dfb732\", \"JobStatus\": \"FAILED\", \"Message\": \"SINGLE_FILE_SIZE_LIMIT_EXCEEDED: File: training_file_only_content.csv exceeds size limit. 104857600 bytes allowed for ONE_DOC_PER_FILE format.\", \"SubmitTime\": {\"$date\": 1556123922122}, \"EndTime\": {\"$date\": 1556123924570}, \"InputDataConfig\": {\"S3Uri\": \"s3://nlp-kc-learning/training_file_only_content.csv\", \"InputFormat\": \"ONE_DOC_PER_FILE\"}, \"OutputDataConfig\": {\"S3Uri\": \"s3://nlp-kc-learning/dhageman/023375022819-TOPICS-aeb3d8f9a44452fe2492a270e9dfb732/output/output.tar.gz\"}, \"NumberOfTopics\": 10, \"DataAccessRoleArn\": \"arn:aws:iam::023375022819:role/service-role/AmazonComprehendServiceRole-mark\"}, {\"JobId\": \"8fc46a6be0e80ec1dd829b20b70d8add\", \"JobStatus\": \"FAILED\", \"Message\": \"DOCUMENT_COUNT_LIMIT_EXCEEDED: Total number of input documents exceeds limit. 1000000 documents allowed for format ONE_DOC_PER_LINE. Current number of documents: 1800001.\", \"SubmitTime\": {\"$date\": 1556123937413}, \"EndTime\": {\"$date\": 1556124210993}, \"InputDataConfig\": {\"S3Uri\": \"s3://nlp-kc-learning/training_file.csv\", \"InputFormat\": \"ONE_DOC_PER_LINE\"}, \"OutputDataConfig\": {\"S3Uri\": \"s3://nlp-kc-learning/comprehend_output/023375022819-TOPICS-8fc46a6be0e80ec1dd829b20b70d8add/output/output.tar.gz\"}, \"NumberOfTopics\": 10, \"DataAccessRoleArn\": \"arn:aws:iam::023375022819:role/service-role/AmazonComprehendServiceRole-mark\"}, {\"JobId\": \"8f7feecb54e6f1d71e4fd691188d1d3e\", \"JobStatus\": \"FAILED\", \"Message\": \"SINGLE_FILE_SIZE_LIMIT_EXCEEDED: File: training_file_only_content.csv exceeds size limit. 104857600 bytes allowed for ONE_DOC_PER_FILE format.\", \"SubmitTime\": {\"$date\": 1556123998931}, \"EndTime\": {\"$date\": 1556124000510}, \"InputDataConfig\": {\"S3Uri\": \"s3://nlp-kc-learning/training_file_only_content.csv\", \"InputFormat\": \"ONE_DOC_PER_FILE\"}, \"OutputDataConfig\": {\"S3Uri\": \"s3://nlp-kc-learning/dhageman/023375022819-TOPICS-8f7feecb54e6f1d71e4fd691188d1d3e/output/output.tar.gz\"}, \"NumberOfTopics\": 10, \"DataAccessRoleArn\": \"arn:aws:iam::023375022819:role/service-role/AmazonComprehendServiceRole-mark\"}, {\"JobId\": \"2c32964988670f511e7b00a94d020e2c\", \"JobStatus\": \"FAILED\", \"Message\": \"SINGLE_FILE_SIZE_LIMIT_EXCEEDED: File: training_file_only_content.csv exceeds size limit. 104857600 bytes allowed for ONE_DOC_PER_FILE format.\", \"SubmitTime\": {\"$date\": 1556124004234}, \"EndTime\": {\"$date\": 1556124005876}, \"InputDataConfig\": {\"S3Uri\": \"s3://nlp-kc-learning/training_file_only_content.csv\", \"InputFormat\": \"ONE_DOC_PER_FILE\"}, \"OutputDataConfig\": {\"S3Uri\": \"s3://nlp-kc-learning/dhageman/023375022819-TOPICS-2c32964988670f511e7b00a94d020e2c/output/output.tar.gz\"}, \"NumberOfTopics\": 10, \"DataAccessRoleArn\": \"arn:aws:iam::023375022819:role/service-role/AmazonComprehendServiceRole-mark\"}, {\"JobId\": \"8e075c5d8dd3dc55ae9bd3a09fec811a\", \"JobStatus\": \"FAILED\", \"Message\": \"DOCUMENT_COUNT_LIMIT_EXCEEDED: Total number of input documents exceeds limit. 1000000 documents allowed for format ONE_DOC_PER_LINE. Current number of documents: 1800001.\", \"SubmitTime\": {\"$date\": 1556124021049}, \"EndTime\": {\"$date\": 1556124296289}, \"InputDataConfig\": {\"S3Uri\": \"s3://nlp-kc-learning/training_file.csv\", \"InputFormat\": \"ONE_DOC_PER_LINE\"}, \"OutputDataConfig\": {\"S3Uri\": \"s3://nlp-kc-learning/comprehend_output/023375022819-TOPICS-8e075c5d8dd3dc55ae9bd3a09fec811a/output/output.tar.gz\"}, \"NumberOfTopics\": 10, \"DataAccessRoleArn\": \"arn:aws:iam::023375022819:role/service-role/AmazonComprehendServiceRole-mark\"}, {\"JobId\": \"26bcd8601826c7644c7ea90a3c8ee0a0\", \"JobStatus\": \"FAILED\", \"Message\": \"NO_WRITE_ACCESS_TO_OUTPUT: The provided data access role does not have write access to the output S3 URI.\", \"SubmitTime\": {\"$date\": 1556124027301}, \"EndTime\": {\"$date\": 1556124028530}, \"InputDataConfig\": {\"S3Uri\": \"s3://nlp-kc-learning/clean_neg_reviews.csv\", \"InputFormat\": \"ONE_DOC_PER_LINE\"}, \"OutputDataConfig\": {\"S3Uri\": \"s3://nlp-kc-learning/comprehend_results.csv/023375022819-TOPICS-26bcd8601826c7644c7ea90a3c8ee0a0/output/output.tar.gz\"}, \"NumberOfTopics\": 10, \"DataAccessRoleArn\": \"arn:aws:iam::023375022819:role/ComprehendFullAccess\"}, {\"JobId\": \"3fad18e655940a2addb456105645f55a\", \"JobStatus\": \"FAILED\", \"Message\": \"DOCUMENT_COUNT_LIMIT_EXCEEDED: Total number of input documents exceeds limit. 1000000 documents allowed for format ONE_DOC_PER_LINE. Current number of documents: 1000001.\", \"SubmitTime\": {\"$date\": 1556124104233}, \"EndTime\": {\"$date\": 1556124379647}, \"InputDataConfig\": {\"S3Uri\": \"s3://nlp-kc-learning/training_file_only_content.csv\", \"InputFormat\": \"ONE_DOC_PER_LINE\"}, \"OutputDataConfig\": {\"S3Uri\": \"s3://nlp-kc-learning/comprehend_output/023375022819-TOPICS-3fad18e655940a2addb456105645f55a/output/output.tar.gz\"}, \"NumberOfTopics\": 10, \"DataAccessRoleArn\": \"arn:aws:iam::023375022819:role/service-role/AmazonComprehendServiceRole-mark\"}, {\"JobId\": \"ee560f8d1c9bc4442953a32af03b9baa\", \"JobStatus\": \"FAILED\", \"Message\": \"NO_WRITE_ACCESS_TO_OUTPUT: The provided data access role does not have write access to the output S3 URI.\", \"SubmitTime\": {\"$date\": 1556124180641}, \"EndTime\": {\"$date\": 1556124183891}, \"InputDataConfig\": {\"S3Uri\": \"s3://nlp-kc-learning/clean_neg_reviews.csv\", \"InputFormat\": \"ONE_DOC_PER_LINE\"}, \"OutputDataConfig\": {\"S3Uri\": \"s3://nlp-kc-learning/comprehend_output/023375022819-TOPICS-ee560f8d1c9bc4442953a32af03b9baa/output/output.tar.gz\"}, \"NumberOfTopics\": 10, \"DataAccessRoleArn\": \"arn:aws:iam::023375022819:role/ComprehendFullAccess\"}, {\"JobId\": \"01a1bfaf0bd1ce9c734c80a7918568b9\", \"JobStatus\": \"FAILED\", \"Message\": \"SINGLE_FILE_SIZE_LIMIT_EXCEEDED: File: training_file_only_content.csv exceeds size limit. 104857600 bytes allowed for ONE_DOC_PER_FILE format.\", \"SubmitTime\": {\"$date\": 1556124215106}, \"EndTime\": {\"$date\": 1556124232749}, \"InputDataConfig\": {\"S3Uri\": \"s3://nlp-kc-learning/training_file_only_content.csv\", \"InputFormat\": \"ONE_DOC_PER_FILE\"}, \"OutputDataConfig\": {\"S3Uri\": \"s3://nlp-kc-learning/dhageman/023375022819-TOPICS-01a1bfaf0bd1ce9c734c80a7918568b9/output/output.tar.gz\"}, \"NumberOfTopics\": 10, \"DataAccessRoleArn\": \"arn:aws:iam::023375022819:role/service-role/AmazonComprehendServiceRole-mark\"}, {\"JobId\": \"6393c50960006a7fb47e34b25865c124\", \"JobStatus\": \"FAILED\", \"Message\": \"SINGLE_FILE_SIZE_LIMIT_EXCEEDED: File: training_file_only_content.csv exceeds size limit. 104857600 bytes allowed for ONE_DOC_PER_FILE format.\", \"SubmitTime\": {\"$date\": 1556124291855}, \"EndTime\": {\"$date\": 1556124294094}, \"InputDataConfig\": {\"S3Uri\": \"s3://nlp-kc-learning/training_file_only_content.csv\", \"InputFormat\": \"ONE_DOC_PER_FILE\"}, \"OutputDataConfig\": {\"S3Uri\": \"s3://nlp-kc-learning/dhageman/023375022819-TOPICS-6393c50960006a7fb47e34b25865c124/output/output.tar.gz\"}, \"NumberOfTopics\": 10, \"DataAccessRoleArn\": \"arn:aws:iam::023375022819:role/service-role/AmazonComprehendServiceRole-mark\"}, {\"JobId\": \"864044f8ebab8c1b7f91130928a43647\", \"JobStatus\": \"FAILED\", \"Message\": \"SINGLE_FILE_SIZE_LIMIT_EXCEEDED: File: training_file_only_content.csv exceeds size limit. 104857600 bytes allowed for ONE_DOC_PER_FILE format.\", \"SubmitTime\": {\"$date\": 1556124354115}, \"EndTime\": {\"$date\": 1556124355932}, \"InputDataConfig\": {\"S3Uri\": \"s3://nlp-kc-learning/training_file_only_content.csv\", \"InputFormat\": \"ONE_DOC_PER_FILE\"}, \"OutputDataConfig\": {\"S3Uri\": \"s3://nlp-kc-learning/dhageman/023375022819-TOPICS-864044f8ebab8c1b7f91130928a43647/output/output.tar.gz\"}, \"NumberOfTopics\": 10, \"DataAccessRoleArn\": \"arn:aws:iam::023375022819:role/service-role/AmazonComprehendServiceRole-mark\"}, {\"JobId\": \"f08eb304f54574d7d4c3d47895117389\", \"JobStatus\": \"FAILED\", \"Message\": \"NO_WRITE_ACCESS_TO_OUTPUT: The provided data access role does not have write access to the output S3 URI.\", \"SubmitTime\": {\"$date\": 1556124423263}, \"EndTime\": {\"$date\": 1556124425348}, \"InputDataConfig\": {\"S3Uri\": \"s3://nlp-kc-learning/clean_neg_reviews.csv\", \"InputFormat\": \"ONE_DOC_PER_LINE\"}, \"OutputDataConfig\": {\"S3Uri\": \"s3://nlp-kc-learning/comprehend_output/023375022819-TOPICS-f08eb304f54574d7d4c3d47895117389/output/output.tar.gz\"}, \"NumberOfTopics\": 10, \"DataAccessRoleArn\": \"arn:aws:iam::023375022819:role/S3FullAccess\"}, {\"JobId\": \"60c61707f6e06e1e1dce627690c8e787\", \"JobStatus\": \"FAILED\", \"Message\": \"NO_WRITE_ACCESS_TO_OUTPUT: The provided data access role does not have write access to the output S3 URI.\", \"SubmitTime\": {\"$date\": 1556124528328}, \"EndTime\": {\"$date\": 1556124529853}, \"InputDataConfig\": {\"S3Uri\": \"s3://nlp-kc-learning/clean_neg_reviews.csv\", \"InputFormat\": \"ONE_DOC_PER_LINE\"}, \"OutputDataConfig\": {\"S3Uri\": \"s3://nlp-kc-learning/comprehend_output/023375022819-TOPICS-60c61707f6e06e1e1dce627690c8e787/output/output.tar.gz\"}, \"NumberOfTopics\": 100, \"DataAccessRoleArn\": \"arn:aws:iam::023375022819:role/S3FullAccess\"}, {\"JobId\": \"82ee6613ad2b0734c22f11dea7021175\", \"JobName\": \"dhageman_topics_detection\", \"JobStatus\": \"FAILED\", \"Message\": \"SINGLE_FILE_SIZE_LIMIT_EXCEEDED: File: training_file_only_content.csv exceeds size limit. 104857600 bytes allowed for ONE_DOC_PER_FILE format.\", \"SubmitTime\": {\"$date\": 1556124626856}, \"EndTime\": {\"$date\": 1556124628948}, \"InputDataConfig\": {\"S3Uri\": \"s3://nlp-kc-learning/training_file_only_content.csv\", \"InputFormat\": \"ONE_DOC_PER_FILE\"}, \"OutputDataConfig\": {\"S3Uri\": \"s3://nlp-kc-learning/dhageman/023375022819-TOPICS-82ee6613ad2b0734c22f11dea7021175/output/output.tar.gz\"}, \"NumberOfTopics\": 10, \"DataAccessRoleArn\": \"arn:aws:iam::023375022819:role/service-role/AmazonComprehendServiceRole-mark\"}, {\"JobId\": \"6d4f64ac382cbb06b13e10b0e8e0ba54\", \"JobName\": \"dhageman_topics_detection\", \"JobStatus\": \"COMPLETED\", \"SubmitTime\": {\"$date\": 1556124711329}, \"EndTime\": {\"$date\": 1556124986695}, \"InputDataConfig\": {\"S3Uri\": \"s3://nlp-kc-learning/training_file_only_content.csv\", \"InputFormat\": \"ONE_DOC_PER_FILE\"}, \"OutputDataConfig\": {\"S3Uri\": \"s3://nlp-kc-learning/dhageman/023375022819-TOPICS-6d4f64ac382cbb06b13e10b0e8e0ba54/output/output.tar.gz\"}, \"NumberOfTopics\": 10, \"DataAccessRoleArn\": \"arn:aws:iam::023375022819:role/service-role/AmazonComprehendServiceRole-mark\"}, {\"JobId\": \"6d000dced7debceac853a008d0fab7f7\", \"JobStatus\": \"FAILED\", \"Message\": \"NO_WRITE_ACCESS_TO_OUTPUT: The provided data access role does not have write access to the output S3 URI.\", \"SubmitTime\": {\"$date\": 1556124721575}, \"EndTime\": {\"$date\": 1556124723648}, \"InputDataConfig\": {\"S3Uri\": \"s3://nlp-kc-learning/clean_neg_reviews.csv\", \"InputFormat\": \"ONE_DOC_PER_LINE\"}, \"OutputDataConfig\": {\"S3Uri\": \"s3://nlp-kc-learning/tgalati/023375022819-TOPICS-6d000dced7debceac853a008d0fab7f7/output/output.tar.gz\"}, \"NumberOfTopics\": 100, \"DataAccessRoleArn\": \"arn:aws:iam::023375022819:role/S3FullAccess\"}, {\"JobId\": \"6a914bb5c6830811871c5ab93224ae12\", \"JobStatus\": \"COMPLETED\", \"SubmitTime\": {\"$date\": 1556124727395}, \"EndTime\": {\"$date\": 1556126264974}, \"InputDataConfig\": {\"S3Uri\": \"s3://nlp-kc-learning/training_file_only_content.csv\", \"InputFormat\": \"ONE_DOC_PER_LINE\"}, \"OutputDataConfig\": {\"S3Uri\": \"s3://nlp-kc-learning/comprehend_output/023375022819-TOPICS-6a914bb5c6830811871c5ab93224ae12/output/output.tar.gz\"}, \"NumberOfTopics\": 10, \"DataAccessRoleArn\": \"arn:aws:iam::023375022819:role/service-role/AmazonComprehendServiceRole-mark\"}, {\"JobId\": \"21f40be5ce926601178c0a2a8b14c508\", \"JobName\": \"tgalati_topics_detection\", \"JobStatus\": \"FAILED\", \"Message\": \"NO_WRITE_ACCESS_TO_OUTPUT: The provided data access role does not have write access to the output S3 URI.\", \"SubmitTime\": {\"$date\": 1556124973987}, \"EndTime\": {\"$date\": 1556124976171}, \"InputDataConfig\": {\"S3Uri\": \"s3://nlp-kc-learning/clean_neg_reviews.csv\", \"InputFormat\": \"ONE_DOC_PER_LINE\"}, \"OutputDataConfig\": {\"S3Uri\": \"s3://nlp-kc-learning/tgalati/023375022819-TOPICS-21f40be5ce926601178c0a2a8b14c508/output/output.tar.gz\"}, \"NumberOfTopics\": 100, \"DataAccessRoleArn\": \"arn:aws:iam::023375022819:role/S3FullAccess\"}, {\"JobId\": \"e2e63b296856ce743ee61ff622ab66a9\", \"JobName\": \"tgalati_topics_detection\", \"JobStatus\": \"FAILED\", \"Message\": \"DOCUMENT_COUNT_LIMIT_EXCEEDED: Total number of input documents exceeds limit. 1000000 documents allowed for format ONE_DOC_PER_LINE. Current number of documents: 1800001.\", \"SubmitTime\": {\"$date\": 1556125081556}, \"EndTime\": {\"$date\": 1556125356948}, \"InputDataConfig\": {\"S3Uri\": \"s3://nlp-kc-learning/clean_neg_reviews.csv\", \"InputFormat\": \"ONE_DOC_PER_LINE\"}, \"OutputDataConfig\": {\"S3Uri\": \"s3://nlp-kc-learning/tgalati/023375022819-TOPICS-e2e63b296856ce743ee61ff622ab66a9/output/output.tar.gz\"}, \"NumberOfTopics\": 100, \"DataAccessRoleArn\": \"arn:aws:iam::023375022819:role/service-role/AmazonComprehendServiceRole-mark\"}, {\"JobId\": \"a782d5ffd0fe240d5cf9eba133cff4e0\", \"JobName\": \"dhageman_topics_detection\", \"JobStatus\": \"COMPLETED\", \"SubmitTime\": {\"$date\": 1556125431405}, \"EndTime\": {\"$date\": 1556125864907}, \"InputDataConfig\": {\"S3Uri\": \"s3://nlp-kc-learning/training_file_only_content.csv\", \"InputFormat\": \"ONE_DOC_PER_FILE\"}, \"OutputDataConfig\": {\"S3Uri\": \"s3://nlp-kc-learning/dhageman/023375022819-TOPICS-a782d5ffd0fe240d5cf9eba133cff4e0/output/output.tar.gz\"}, \"NumberOfTopics\": 50, \"DataAccessRoleArn\": \"arn:aws:iam::023375022819:role/service-role/AmazonComprehendServiceRole-mark\"}, {\"JobId\": \"512fb10471dc6840f151ff76d7ab8f63\", \"JobName\": \"dhageman_topics_detection\", \"JobStatus\": \"COMPLETED\", \"SubmitTime\": {\"$date\": 1556126539741}, \"EndTime\": {\"$date\": 1556128077906}, \"InputDataConfig\": {\"S3Uri\": \"s3://nlp-kc-learning/training_file_only_content.csv\", \"InputFormat\": \"ONE_DOC_PER_LINE\"}, \"OutputDataConfig\": {\"S3Uri\": \"s3://nlp-kc-learning/dhageman/023375022819-TOPICS-512fb10471dc6840f151ff76d7ab8f63/output/output.tar.gz\"}, \"NumberOfTopics\": 50, \"DataAccessRoleArn\": \"arn:aws:iam::023375022819:role/service-role/AmazonComprehendServiceRole-mark\"}, {\"JobId\": \"6ca6f3b38116f8bb0526447873a52f86\", \"JobName\": \"tgalati_topics_detection\", \"JobStatus\": \"COMPLETED\", \"SubmitTime\": {\"$date\": 1556127775242}, \"EndTime\": {\"$date\": 1556129765748}, \"InputDataConfig\": {\"S3Uri\": \"s3://nlp-kc-learning/clean_neg_reviews.csv\", \"InputFormat\": \"ONE_DOC_PER_LINE\"}, \"OutputDataConfig\": {\"S3Uri\": \"s3://nlp-kc-learning/tgalati/023375022819-TOPICS-6ca6f3b38116f8bb0526447873a52f86/output/output.tar.gz\"}, \"NumberOfTopics\": 100, \"DataAccessRoleArn\": \"arn:aws:iam::023375022819:role/service-role/AmazonComprehendServiceRole-mark\"}, {\"JobId\": \"3b9a934ecfb612a9dc2f6c9046178133\", \"JobName\": \"moss_topics_detection\", \"JobStatus\": \"FAILED\", \"Message\": \"DOCUMENT_CORPUS_SIZE_LESS_THAN_MINIMUM: Document corpus size is less than the minimum requirement: 500 bytes.\", \"SubmitTime\": {\"$date\": 1556130056518}, \"EndTime\": {\"$date\": 1556130070668}, \"InputDataConfig\": {\"S3Uri\": \"s3://nlp-kc-learning/train_reviews.csv\", \"InputFormat\": \"ONE_DOC_PER_LINE\"}, \"OutputDataConfig\": {\"S3Uri\": \"s3://nlp-kc-learning/moss/023375022819-TOPICS-3b9a934ecfb612a9dc2f6c9046178133/output/output.tar.gz\"}, \"NumberOfTopics\": 50, \"DataAccessRoleArn\": \"arn:aws:iam::023375022819:role/service-role/AmazonComprehendServiceRole-mark\"}, {\"JobId\": \"d501d21f4fd11290c3813ba4e8314d11\", \"JobName\": \"moss_topics_detection\", \"JobStatus\": \"FAILED\", \"Message\": \"DOCUMENT_CORPUS_SIZE_LESS_THAN_MINIMUM: Document corpus size is less than the minimum requirement: 500 bytes.\", \"SubmitTime\": {\"$date\": 1556130082403}, \"EndTime\": {\"$date\": 1556130084608}, \"InputDataConfig\": {\"S3Uri\": \"s3://nlp-kc-learning/train_reviews.csv\", \"InputFormat\": \"ONE_DOC_PER_LINE\"}, \"OutputDataConfig\": {\"S3Uri\": \"s3://nlp-kc-learning/moss/023375022819-TOPICS-d501d21f4fd11290c3813ba4e8314d11/output/output.tar.gz\"}, \"NumberOfTopics\": 50, \"DataAccessRoleArn\": \"arn:aws:iam::023375022819:role/service-role/AmazonComprehendServiceRole-mark\"}, {\"JobId\": \"55d687a16c402a94b29bf26ecdf14684\", \"JobName\": \"tgalati_topics_detection\", \"JobStatus\": \"COMPLETED\", \"SubmitTime\": {\"$date\": 1556130088436}, \"EndTime\": {\"$date\": 1556131603613}, \"InputDataConfig\": {\"S3Uri\": \"s3://nlp-kc-learning/clean_neg_reviews.csv\", \"InputFormat\": \"ONE_DOC_PER_LINE\"}, \"OutputDataConfig\": {\"S3Uri\": \"s3://nlp-kc-learning/tgalati/023375022819-TOPICS-55d687a16c402a94b29bf26ecdf14684/output/output.tar.gz\"}, \"NumberOfTopics\": 15, \"DataAccessRoleArn\": \"arn:aws:iam::023375022819:role/service-role/AmazonComprehendServiceRole-mark\"}, {\"JobId\": \"9b26ea6deb1cb006de1f7570f88e3ae2\", \"JobName\": \"moss_topics_detection\", \"JobStatus\": \"FAILED\", \"Message\": \"DOCUMENT_CORPUS_SIZE_LESS_THAN_MINIMUM: Document corpus size is less than the minimum requirement: 500 bytes.\", \"SubmitTime\": {\"$date\": 1556130520225}, \"EndTime\": {\"$date\": 1556130522547}, \"InputDataConfig\": {\"S3Uri\": \"s3://nlp-kc-learning/train_reviews.csv\", \"InputFormat\": \"ONE_DOC_PER_LINE\"}, \"OutputDataConfig\": {\"S3Uri\": \"s3://nlp-kc-learning/moss/023375022819-TOPICS-9b26ea6deb1cb006de1f7570f88e3ae2/output/output.tar.gz\"}, \"NumberOfTopics\": 50, \"DataAccessRoleArn\": \"arn:aws:iam::023375022819:role/service-role/AmazonComprehendServiceRole-mark\"}, {\"JobId\": \"30f52f97376d1429fd93896cf4e123c7\", \"JobName\": \"moss_topics_detection\", \"JobStatus\": \"FAILED\", \"Message\": \"DOCUMENT_CORPUS_SIZE_LESS_THAN_MINIMUM: Document corpus size is less than the minimum requirement: 500 bytes.\", \"SubmitTime\": {\"$date\": 1556130887572}, \"EndTime\": {\"$date\": 1556130890048}, \"InputDataConfig\": {\"S3Uri\": \"s3://nlp-kc-learning/train_reviews.csv\", \"InputFormat\": \"ONE_DOC_PER_LINE\"}, \"OutputDataConfig\": {\"S3Uri\": \"s3://nlp-kc-learning/moss/023375022819-TOPICS-30f52f97376d1429fd93896cf4e123c7/output/output.tar.gz\"}, \"NumberOfTopics\": 50, \"DataAccessRoleArn\": \"arn:aws:iam::023375022819:role/service-role/AmazonComprehendServiceRole-mark\"}, {\"JobId\": \"1fecec2067342ea2b6495148b7324951\", \"JobName\": \"moss_topics_detection\", \"JobStatus\": \"FAILED\", \"Message\": \"DOCUMENT_CORPUS_SIZE_LESS_THAN_MINIMUM: Document corpus size is less than the minimum requirement: 500 bytes.\", \"SubmitTime\": {\"$date\": 1556133071493}, \"EndTime\": {\"$date\": 1556133083348}, \"InputDataConfig\": {\"S3Uri\": \"s3://nlp-kc-learning/train_reviews.csv\", \"InputFormat\": \"ONE_DOC_PER_LINE\"}, \"OutputDataConfig\": {\"S3Uri\": \"s3://nlp-kc-learning/moss/023375022819-TOPICS-1fecec2067342ea2b6495148b7324951/output/output.tar.gz\"}, \"NumberOfTopics\": 50, \"DataAccessRoleArn\": \"arn:aws:iam::023375022819:role/service-role/AmazonComprehendServiceRole-mark\"}, {\"JobId\": \"a87fb36e2f4947afe11c88376e87310c\", \"JobName\": \"jsears-job\", \"JobStatus\": \"FAILED\", \"Message\": \"DOCUMENT_COUNT_LIMIT_EXCEEDED: Total number of input documents exceeds limit. 1000000 documents allowed for format ONE_DOC_PER_LINE. Current number of documents: 1800001.\", \"SubmitTime\": {\"$date\": 1556133126180}, \"EndTime\": {\"$date\": 1556133403196}, \"InputDataConfig\": {\"S3Uri\": \"s3://nlp-kc-learning/training_file.csv\", \"InputFormat\": \"ONE_DOC_PER_LINE\"}, \"OutputDataConfig\": {\"S3Uri\": \"s3://nlp-jsears-output/023375022819-TOPICS-a87fb36e2f4947afe11c88376e87310c/output/output.tar.gz\"}, \"NumberOfTopics\": 10, \"DataAccessRoleArn\": \"arn:aws:iam::023375022819:role/service-role/AmazonComprehendServiceRole-mark\"}, {\"JobId\": \"d8f2b2758dfbb4c156a91b0a271ef0f2\", \"JobName\": \"jsears-job\", \"JobStatus\": \"FAILED\", \"Message\": \"DOCUMENT_COUNT_LIMIT_EXCEEDED: Total number of input documents exceeds limit. 1000000 documents allowed for format ONE_DOC_PER_LINE. Current number of documents: 1800001.\", \"SubmitTime\": {\"$date\": 1556133445717}, \"EndTime\": {\"$date\": 1556133721613}, \"InputDataConfig\": {\"S3Uri\": \"s3://nlp-kc-learning/training_file.csv\", \"InputFormat\": \"ONE_DOC_PER_LINE\"}, \"OutputDataConfig\": {\"S3Uri\": \"s3://nlp-kc-learning/js-output/023375022819-TOPICS-d8f2b2758dfbb4c156a91b0a271ef0f2/output/output.tar.gz\"}, \"NumberOfTopics\": 50, \"DataAccessRoleArn\": \"arn:aws:iam::023375022819:role/service-role/AmazonComprehendServiceRole-mark\"}, {\"JobId\": \"71ba3c95fce931768021e2da09478a7c\", \"JobName\": \"jsears-job\", \"JobStatus\": \"FAILED\", \"Message\": \"DOCUMENT_COUNT_LIMIT_EXCEEDED: Total number of input documents exceeds limit. 1000000 documents allowed for format ONE_DOC_PER_LINE. Current number of documents: 1800001.\", \"SubmitTime\": {\"$date\": 1556133564150}, \"EndTime\": {\"$date\": 1556133838580}, \"InputDataConfig\": {\"S3Uri\": \"s3://nlp-kc-learning/training_file.csv\", \"InputFormat\": \"ONE_DOC_PER_LINE\"}, \"OutputDataConfig\": {\"S3Uri\": \"s3://nlp-kc-learning/js-output/023375022819-TOPICS-71ba3c95fce931768021e2da09478a7c/output/output.tar.gz\"}, \"NumberOfTopics\": 50, \"DataAccessRoleArn\": \"arn:aws:iam::023375022819:role/service-role/AmazonComprehendServiceRole-mark\"}, {\"JobId\": \"2cc5e75aabcd19b1492710bbf721a011\", \"JobName\": \"jsears-job\", \"JobStatus\": \"COMPLETED\", \"SubmitTime\": {\"$date\": 1556133731207}, \"EndTime\": {\"$date\": 1556135359469}, \"InputDataConfig\": {\"S3Uri\": \"s3://nlp-kc-learning/training_file_only_content.csv\", \"InputFormat\": \"ONE_DOC_PER_LINE\"}, \"OutputDataConfig\": {\"S3Uri\": \"s3://nlp-kc-learning/js-output/023375022819-TOPICS-2cc5e75aabcd19b1492710bbf721a011/output/output.tar.gz\"}, \"NumberOfTopics\": 50, \"DataAccessRoleArn\": \"arn:aws:iam::023375022819:role/service-role/AmazonComprehendServiceRole-mark\"}, {\"JobId\": \"b0654cff5d02caeac1ec242cbcbb6d97\", \"JobName\": \"dhageman_topics_detection\", \"JobStatus\": \"COMPLETED\", \"SubmitTime\": {\"$date\": 1556133834378}, \"EndTime\": {\"$date\": 1556135464374}, \"InputDataConfig\": {\"S3Uri\": \"s3://nlp-kc-learning/training_file_only_content.csv\", \"InputFormat\": \"ONE_DOC_PER_LINE\"}, \"OutputDataConfig\": {\"S3Uri\": \"s3://nlp-kc-learning/jsears-output/023375022819-TOPICS-b0654cff5d02caeac1ec242cbcbb6d97/output/output.tar.gz\"}, \"NumberOfTopics\": 50, \"DataAccessRoleArn\": \"arn:aws:iam::023375022819:role/service-role/AmazonComprehendServiceRole-mark\"}, {\"JobId\": \"34a65ab07053ae3b0255d8333c8d28c1\", \"JobName\": \"jsears_topics\", \"JobStatus\": \"COMPLETED\", \"SubmitTime\": {\"$date\": 1556133908724}, \"EndTime\": {\"$date\": 1556135536909}, \"InputDataConfig\": {\"S3Uri\": \"s3://nlp-kc-learning/training_file_only_content.csv\", \"InputFormat\": \"ONE_DOC_PER_LINE\"}, \"OutputDataConfig\": {\"S3Uri\": \"s3://nlp-kc-learning/jsears-output/023375022819-TOPICS-34a65ab07053ae3b0255d8333c8d28c1/output/output.tar.gz\"}, \"NumberOfTopics\": 50, \"DataAccessRoleArn\": \"arn:aws:iam::023375022819:role/service-role/AmazonComprehendServiceRole-mark\"}, {\"JobId\": \"4439db5fa618a1d41dd866cbfa4a8e25\", \"JobName\": \"jsears_topics\", \"JobStatus\": \"COMPLETED\", \"SubmitTime\": {\"$date\": 1556133931909}, \"EndTime\": {\"$date\": 1556135576167}, \"InputDataConfig\": {\"S3Uri\": \"s3://nlp-kc-learning/training_file_only_content.csv\", \"InputFormat\": \"ONE_DOC_PER_LINE\"}, \"OutputDataConfig\": {\"S3Uri\": \"s3://nlp-kc-learning/js-output/023375022819-TOPICS-4439db5fa618a1d41dd866cbfa4a8e25/output/output.tar.gz\"}, \"NumberOfTopics\": 50, \"DataAccessRoleArn\": \"arn:aws:iam::023375022819:role/service-role/AmazonComprehendServiceRole-mark\"}, {\"JobId\": \"cff6f0b90d6127862d7435dcdbadf337\", \"JobName\": \"jsears_topics\", \"JobStatus\": \"COMPLETED\", \"SubmitTime\": {\"$date\": 1556134170195}, \"EndTime\": {\"$date\": 1556135710249}, \"InputDataConfig\": {\"S3Uri\": \"s3://nlp-kc-learning/training_file_only_content.csv\", \"InputFormat\": \"ONE_DOC_PER_LINE\"}, \"OutputDataConfig\": {\"S3Uri\": \"s3://nlp-kc-learning/js-output/023375022819-TOPICS-cff6f0b90d6127862d7435dcdbadf337/output/output.tar.gz\"}, \"NumberOfTopics\": 50, \"DataAccessRoleArn\": \"arn:aws:iam::023375022819:role/service-role/AmazonComprehendServiceRole-mark\"}, {\"JobId\": \"423336a0e6b35686e3900573a242b66b\", \"JobName\": \"jsears_topics\", \"JobStatus\": \"COMPLETED\", \"SubmitTime\": {\"$date\": 1556134235905}, \"EndTime\": {\"$date\": 1556135775434}, \"InputDataConfig\": {\"S3Uri\": \"s3://nlp-kc-learning/training_file_only_content.csv\", \"InputFormat\": \"ONE_DOC_PER_LINE\"}, \"OutputDataConfig\": {\"S3Uri\": \"s3://nlp-kc-learning/js-output/023375022819-TOPICS-423336a0e6b35686e3900573a242b66b/output/output.tar.gz\"}, \"NumberOfTopics\": 50, \"DataAccessRoleArn\": \"arn:aws:iam::023375022819:role/service-role/AmazonComprehendServiceRole-mark\"}, {\"JobId\": \"607aa8e43cc0fcd34027826b4f3d3117\", \"JobName\": \"jsears_topics\", \"JobStatus\": \"COMPLETED\", \"SubmitTime\": {\"$date\": 1556134356409}, \"EndTime\": {\"$date\": 1556135898614}, \"InputDataConfig\": {\"S3Uri\": \"s3://nlp-kc-learning/training_file_only_content.csv\", \"InputFormat\": \"ONE_DOC_PER_LINE\"}, \"OutputDataConfig\": {\"S3Uri\": \"s3://nlp-kc-learning/js-output/023375022819-TOPICS-607aa8e43cc0fcd34027826b4f3d3117/output/output.tar.gz\"}, \"NumberOfTopics\": 50, \"DataAccessRoleArn\": \"arn:aws:iam::023375022819:role/service-role/AmazonComprehendServiceRole-mark\"}, {\"JobId\": \"3a55d8261fd3aa356438f40b658eed3c\", \"JobName\": \"jsears_topics\", \"JobStatus\": \"FAILED\", \"Message\": \"NO_WRITE_ACCESS_TO_OUTPUT: The provided data access role does not have write access to the output S3 URI.\", \"SubmitTime\": {\"$date\": 1556134390865}, \"EndTime\": {\"$date\": 1556134396353}, \"InputDataConfig\": {\"S3Uri\": \"s3://nlp-kc-learning/training_file_only_content.csv\", \"InputFormat\": \"ONE_DOC_PER_LINE\"}, \"OutputDataConfig\": {\"S3Uri\": \"s3://nlp-kc-learning/js-output/023375022819-TOPICS-3a55d8261fd3aa356438f40b658eed3c/output/output.tar.gz\"}, \"NumberOfTopics\": 50, \"DataAccessRoleArn\": \"arn:aws:iam::023375022819:role/ComprehendFullAccess\"}, {\"JobId\": \"19c33ea37ef098563d2e734ba9942f78\", \"JobName\": \"jsears_topics\", \"JobStatus\": \"COMPLETED\", \"SubmitTime\": {\"$date\": 1556134451844}, \"EndTime\": {\"$date\": 1556135989867}, \"InputDataConfig\": {\"S3Uri\": \"s3://nlp-kc-learning/training_file_only_content.csv\", \"InputFormat\": \"ONE_DOC_PER_LINE\"}, \"OutputDataConfig\": {\"S3Uri\": \"s3://nlp-kc-learning/js-output/023375022819-TOPICS-19c33ea37ef098563d2e734ba9942f78/output/output.tar.gz\"}, \"NumberOfTopics\": 50, \"DataAccessRoleArn\": \"arn:aws:iam::023375022819:role/service-role/AmazonComprehendServiceRole-mark\"}, {\"JobId\": \"c7a2ca6ee8c4df1cb14f3bdc772035be\", \"JobName\": \"jsears_topics\", \"JobStatus\": \"FAILED\", \"Message\": \"NO_WRITE_ACCESS_TO_OUTPUT: The provided data access role does not have write access to the output S3 URI.\", \"SubmitTime\": {\"$date\": 1556134574619}, \"EndTime\": {\"$date\": 1556134576875}, \"InputDataConfig\": {\"S3Uri\": \"s3://nlp-kc-learning/training_file_only_content.csv\", \"InputFormat\": \"ONE_DOC_PER_LINE\"}, \"OutputDataConfig\": {\"S3Uri\": \"s3://nlp-js-output/023375022819-TOPICS-c7a2ca6ee8c4df1cb14f3bdc772035be/output/output.tar.gz\"}, \"NumberOfTopics\": 50, \"DataAccessRoleArn\": \"arn:aws:iam::023375022819:role/service-role/AmazonSageMaker-ExecutionRole-20181029T121824\"}, {\"JobId\": \"795c6ef77b7841f2ce70f669bf73c5cb\", \"JobName\": \"jsears_topics\", \"JobStatus\": \"FAILED\", \"Message\": \"OUTPUT_BUCKET_NOT_FOUND: The provided output S3 bucket does not exist.\", \"SubmitTime\": {\"$date\": 1556135247603}, \"EndTime\": {\"$date\": 1556135248873}, \"InputDataConfig\": {\"S3Uri\": \"s3://nlp-kc-learning/training_file_only_content.csv\", \"InputFormat\": \"ONE_DOC_PER_LINE\"}, \"OutputDataConfig\": {\"S3Uri\": \"s3://nlp-js-output/023375022819-TOPICS-795c6ef77b7841f2ce70f669bf73c5cb/output/output.tar.gz\"}, \"NumberOfTopics\": 50, \"DataAccessRoleArn\": \"arn:aws:iam::023375022819:role/service-role/AmazonComprehendServiceRole-mark\"}, {\"JobId\": \"fd861be6eabbcecd35617bcec16aa932\", \"JobName\": \"jsears_topics\", \"JobStatus\": \"COMPLETED\", \"SubmitTime\": {\"$date\": 1556135299805}, \"EndTime\": {\"$date\": 1556136928634}, \"InputDataConfig\": {\"S3Uri\": \"s3://nlp-kc-learning/training_file_only_content.csv\", \"InputFormat\": \"ONE_DOC_PER_LINE\"}, \"OutputDataConfig\": {\"S3Uri\": \"s3://nlp-jsears-output/output/023375022819-TOPICS-fd861be6eabbcecd35617bcec16aa932/output/output.tar.gz\"}, \"NumberOfTopics\": 50, \"DataAccessRoleArn\": \"arn:aws:iam::023375022819:role/service-role/AmazonComprehendServiceRole-mark\"}, {\"JobId\": \"d1c57d8d3b1e073f8b897db001a731ce\", \"JobName\": \"jsears-job\", \"JobStatus\": \"COMPLETED\", \"SubmitTime\": {\"$date\": 1556135327519}, \"EndTime\": {\"$date\": 1556136955734}, \"InputDataConfig\": {\"S3Uri\": \"s3://nlp-kc-learning/training_file_only_content.csv\", \"InputFormat\": \"ONE_DOC_PER_LINE\"}, \"OutputDataConfig\": {\"S3Uri\": \"s3://nlp-kc-learning/js-output/023375022819-TOPICS-d1c57d8d3b1e073f8b897db001a731ce/output/output.tar.gz\"}, \"NumberOfTopics\": 50, \"DataAccessRoleArn\": \"arn:aws:iam::023375022819:role/service-role/AmazonComprehendServiceRole-mark\"}, {\"JobId\": \"dc1b816a193ef76abcc5dc555ee3800b\", \"JobName\": \"jsears_topics_1\", \"JobStatus\": \"COMPLETED\", \"SubmitTime\": {\"$date\": 1556136426149}, \"EndTime\": {\"$date\": 1556138033094}, \"InputDataConfig\": {\"S3Uri\": \"s3://nlp-kc-learning/training_file_only_content.csv\", \"InputFormat\": \"ONE_DOC_PER_LINE\"}, \"OutputDataConfig\": {\"S3Uri\": \"s3://nlp-jsears-output/output/023375022819-TOPICS-dc1b816a193ef76abcc5dc555ee3800b/output/output.tar.gz\"}, \"NumberOfTopics\": 50, \"DataAccessRoleArn\": \"arn:aws:iam::023375022819:role/service-role/AmazonComprehendServiceRole-mark\"}, {\"JobId\": \"459549f58210492d9389bfb08dd10be6\", \"JobName\": \"aaron_topics_detection\", \"JobStatus\": \"COMPLETED\", \"SubmitTime\": {\"$date\": 1556137531729}, \"EndTime\": {\"$date\": 1556139084334}, \"InputDataConfig\": {\"S3Uri\": \"s3://nlp-kc-learning/training_file_only_content.csv\", \"InputFormat\": \"ONE_DOC_PER_LINE\"}, \"OutputDataConfig\": {\"S3Uri\": \"s3://nlp-kc-learning/comprehend_output/023375022819-TOPICS-459549f58210492d9389bfb08dd10be6/output/output.tar.gz\"}, \"NumberOfTopics\": 10, \"DataAccessRoleArn\": \"arn:aws:iam::023375022819:role/service-role/AmazonComprehendServiceRole-mark\"}, {\"JobId\": \"00d7ff8cbc5b1aa078f678990e949bf6\", \"JobName\": \"jsears_topics_2\", \"JobStatus\": \"SUBMITTED\", \"SubmitTime\": {\"$date\": 1556140325577}, \"InputDataConfig\": {\"S3Uri\": \"s3://nlp-kc-learning/training_file_only_content.csv\", \"InputFormat\": \"ONE_DOC_PER_LINE\"}, \"OutputDataConfig\": {\"S3Uri\": \"s3://nlp-jsears-output/output/023375022819-TOPICS-00d7ff8cbc5b1aa078f678990e949bf6/output/output.tar.gz\"}, \"NumberOfTopics\": 15, \"DataAccessRoleArn\": \"arn:aws:iam::023375022819:role/service-role/AmazonComprehendServiceRole-mark\"}], \"ResponseMetadata\": {\"RequestId\": \"9cc90e8a-66d5-11e9-9f95-3718b6319247\", \"HTTPStatusCode\": 200, \"HTTPHeaders\": {\"x-amzn-requestid\": \"9cc90e8a-66d5-11e9-9f95-3718b6319247\", \"content-type\": \"application/x-amz-json-1.1\", \"content-length\": \"56785\", \"date\": \"Wed, 24 Apr 2019 21:12:05 GMT\"}, \"RetryAttempts\": 0}}\n",
      "\n",
      "\n",
      "\n",
      "\n"
     ]
    }
   ],
   "source": [
    "import json\n",
    "import csv\n",
    "from bson import json_util\n",
    "import boto3\n",
    "\n",
    "comprehend = boto3.client('comprehend')\n",
    "input_s3_url = \"s3://nlp-kc-learning/training_file_only_content.csv\"\n",
    "input_doc_format = \"ONE_DOC_PER_LINE\"\n",
    "#output_s3_url = \"s3://nlp-kc-learning/js-output/\"\n",
    "output_s3_url = \"s3://nlp-jsears-output/output\"\n",
    "#data_access_role_arn = \"arn:aws:iam::023375022819:role/service-role/AmazonSageMaker-ExecutionRole-20181029T121824\"\n",
    "data_access_role_arn = \"arn:aws:iam::023375022819:role/service-role/AmazonComprehendServiceRole-mark\"\n",
    "number_of_topics = 15\n",
    "\n",
    "input_data_config = {\"S3Uri\": input_s3_url, \"InputFormat\": input_doc_format}\n",
    "output_data_config = {\"S3Uri\": output_s3_url}\n",
    "\n",
    "start_topics_detection_job_result = \\\n",
    "    comprehend.start_topics_detection_job(NumberOfTopics=number_of_topics,\n",
    "                                          JobName=\"jsears_topics_2\",\n",
    "                                          InputDataConfig=input_data_config,\n",
    "                                          OutputDataConfig=output_data_config,\n",
    "                                          DataAccessRoleArn=data_access_role_arn)\n",
    "\n",
    "print('start_topics_detection_job_result: ' + json.dumps(start_topics_detection_job_result))\n",
    " \n",
    "job_id = start_topics_detection_job_result[\"JobId\"]\n",
    " \n",
    "print('job_id: ' + job_id)\n",
    " \n",
    "describe_topics_detection_job_result = comprehend.describe_topics_detection_job(JobId=job_id)\n",
    " \n",
    "print('describe_topics_detection_job_result: ' + json.dumps(describe_topics_detection_job_result, default=json_util.default))\n",
    "\n",
    "list_topics_detection_jobs_result = comprehend.list_topics_detection_jobs()\n",
    " \n",
    "print('list_topics_detection_jobs_result: ' + json.dumps(list_topics_detection_jobs_result, default=json_util.default))\n"
   ]
  },
  {
   "cell_type": "code",
   "execution_count": 24,
   "metadata": {},
   "outputs": [
    {
     "name": "stdout",
     "output_type": "stream",
     "text": [
      "describe_topics_detection_job_result: {\"TopicsDetectionJobProperties\": {\"JobId\": \"00d7ff8cbc5b1aa078f678990e949bf6\", \"JobName\": \"jsears_topics_2\", \"JobStatus\": \"IN_PROGRESS\", \"SubmitTime\": {\"$date\": 1556140325577}, \"InputDataConfig\": {\"S3Uri\": \"s3://nlp-kc-learning/training_file_only_content.csv\", \"InputFormat\": \"ONE_DOC_PER_LINE\"}, \"OutputDataConfig\": {\"S3Uri\": \"s3://nlp-jsears-output/output/023375022819-TOPICS-00d7ff8cbc5b1aa078f678990e949bf6/output/output.tar.gz\"}, \"NumberOfTopics\": 15, \"DataAccessRoleArn\": \"arn:aws:iam::023375022819:role/service-role/AmazonComprehendServiceRole-mark\"}, \"ResponseMetadata\": {\"RequestId\": \"99957046-66d7-11e9-b326-f7f9b974f370\", \"HTTPStatusCode\": 200, \"HTTPHeaders\": {\"x-amzn-requestid\": \"99957046-66d7-11e9-b326-f7f9b974f370\", \"content-type\": \"application/x-amz-json-1.1\", \"content-length\": \"530\", \"date\": \"Wed, 24 Apr 2019 21:26:18 GMT\"}, \"RetryAttempts\": 0}}\n"
     ]
    }
   ],
   "source": [
    "#print('job_id: ' + job_id)\n",
    "#print('\\n\\n\\n')\n",
    "describe_topics_detection_job_result = comprehend.describe_topics_detection_job(JobId=job_id)\n",
    "#describe_topics_detection_job_result = comprehend.describe_topics_detection_job(JobId=\"fd861be6eabbcecd35617bcec16aa932\")\n",
    " \n",
    "print('describe_topics_detection_job_result: ' + json.dumps(describe_topics_detection_job_result, default=json_util.default))"
   ]
  },
  {
   "cell_type": "code",
   "execution_count": 17,
   "metadata": {},
   "outputs": [
    {
     "name": "stdout",
     "output_type": "stream",
     "text": [
      "download: s3://nlp-jsears-output/output/023375022819-TOPICS-fd861be6eabbcecd35617bcec16aa932/output/output.tar.gz to ./output.tar.gz\n",
      "doc-topics.csv\n",
      "topic-terms.csv\n"
     ]
    }
   ],
   "source": [
    "!aws s3 cp s3://nlp-jsears-output/output/023375022819-TOPICS-fd861be6eabbcecd35617bcec16aa932/output/output.tar.gz .\n",
    "!tar -xzvf output.tar.gz"
   ]
  },
  {
   "cell_type": "markdown",
   "metadata": {},
   "source": [
    "https://docs.aws.amazon.com/comprehend/latest/dg/get-started-topics.html\n",
    "https://github.com/aws-samples/amazon-sagemaker-architecting-for-ml/blob/master/Writeups/NLP:%20Topic%20Modeling.md\n",
    "https://github.com/awslabs/amazon-sagemaker-examples/tree/master/introduction_to_amazon_algorithms"
   ]
  },
  {
   "cell_type": "code",
   "execution_count": 25,
   "metadata": {},
   "outputs": [
    {
     "name": "stdout",
     "output_type": "stream",
     "text": [
      "download: s3://nlp-jsears-output/output/023375022819-TOPICS-00d7ff8cbc5b1aa078f678990e949bf6/output/output.tar.gz to ./output1.tar.gz\n",
      "tar: data1: Cannot open: No such file or directory\n",
      "tar: Error is not recoverable: exiting now\n"
     ]
    }
   ],
   "source": [
    "!aws s3 cp s3://nlp-jsears-output/output/023375022819-TOPICS-00d7ff8cbc5b1aa078f678990e949bf6/output/output.tar.gz ./output1.tar.gz"
   ]
  },
  {
   "cell_type": "code",
   "execution_count": 26,
   "metadata": {},
   "outputs": [
    {
     "name": "stdout",
     "output_type": "stream",
     "text": [
      "doc-topics.csv\n",
      "topic-terms.csv\n"
     ]
    }
   ],
   "source": [
    "!tar -xzvf output1.tar.gz -C ./data1"
   ]
  },
  {
   "cell_type": "code",
   "execution_count": null,
   "metadata": {},
   "outputs": [],
   "source": []
  }
 ],
 "metadata": {
  "kernelspec": {
   "display_name": "conda_python3",
   "language": "python",
   "name": "conda_python3"
  },
  "language_info": {
   "codemirror_mode": {
    "name": "ipython",
    "version": 3
   },
   "file_extension": ".py",
   "mimetype": "text/x-python",
   "name": "python",
   "nbconvert_exporter": "python",
   "pygments_lexer": "ipython3",
   "version": "3.6.5"
  }
 },
 "nbformat": 4,
 "nbformat_minor": 2
}

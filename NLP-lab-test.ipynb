{
 "cells": [
  {
   "cell_type": "markdown",
   "metadata": {},
   "source": [
    "Setup the environment here"
   ]
  },
  {
   "cell_type": "code",
   "execution_count": 3,
   "metadata": {},
   "outputs": [],
   "source": [
    "import pandas as pd"
   ]
  },
  {
   "cell_type": "markdown",
   "metadata": {},
   "source": [
    "Filter the test file for the negative reviews in the local files area"
   ]
  },
  {
   "cell_type": "code",
   "execution_count": 6,
   "metadata": {},
   "outputs": [],
   "source": [
    "df = pd.read_csv(\"amazon_review_polarity_csv/test.csv\", names = [\"polarity\", \"title\", \"review\"])\n",
    "df = df[df.polarity == 1]"
   ]
  },
  {
   "cell_type": "markdown",
   "metadata": {},
   "source": [
    "Load the output into S3 in prep for comprehend processing"
   ]
  },
  {
   "cell_type": "code",
   "execution_count": 9,
   "metadata": {},
   "outputs": [],
   "source": [
    "test = df.drop(columns = [\"title\", \"polarity\"])\n",
    "test.to_csv(\"test_file_10k_sample_only_content.csv\", encoding=\"utf-8\")\n",
    "test = test.sample(10000)"
   ]
  },
  {
   "cell_type": "markdown",
   "metadata": {},
   "source": [
    "Used the following to upload via terminal:\n",
    "aws s3 cp test_file_10k_sample_only_content.csv s3://nlp-jsears-output/test_file_10k_sample_only_content.csv"
   ]
  },
  {
   "cell_type": "markdown",
   "metadata": {},
   "source": [
    "Process using comprehend"
   ]
  },
  {
   "cell_type": "code",
   "execution_count": null,
   "metadata": {},
   "outputs": [],
   "source": [
    "import json\n",
    "import csv\n",
    "from bson import json_util\n",
    "import boto3\n",
    "\n",
    "comprehend = boto3.client('comprehend')\n",
    "input_s3_url = \"s3://nlp-jsears-output/test_file_10k_sample_only_content.csv\"\n",
    "input_doc_format = \"ONE_DOC_PER_LINE\"\n",
    "#output_s3_url = \"s3://nlp-kc-learning/js-output/\"\n",
    "output_s3_url = \"s3://nlp-jsears-output/output\"\n",
    "#data_access_role_arn = \"arn:aws:iam::023375022819:role/service-role/AmazonSageMaker-ExecutionRole-20181029T121824\"\n",
    "data_access_role_arn = \"arn:aws:iam::023375022819:role/service-role/AmazonComprehendServiceRole-mark\"\n",
    "number_of_topics = 10\n",
    "\n",
    "input_data_config = {\"S3Uri\": input_s3_url, \"InputFormat\": input_doc_format}\n",
    "output_data_config = {\"S3Uri\": output_s3_url}\n",
    "\n",
    "start_topics_detection_job_result = \\\n",
    "    comprehend.start_topics_detection_job(NumberOfTopics=number_of_topics,\n",
    "                                          JobName=\"jsears_test_topics_1\",\n",
    "                                          InputDataConfig=input_data_config,\n",
    "                                          OutputDataConfig=output_data_config,\n",
    "                                          DataAccessRoleArn=data_access_role_arn)\n",
    "\n",
    "print('start_topics_detection_job_result: ' + json.dumps(start_topics_detection_job_result))\n",
    " \n",
    "job_id = start_topics_detection_job_result[\"JobId\"]\n",
    " \n",
    "print('job_id: ' + job_id)\n",
    " \n",
    "describe_topics_detection_job_result = comprehend.describe_topics_detection_job(JobId=job_id)\n",
    " \n",
    "print('describe_topics_detection_job_result: ' + json.dumps(describe_topics_detection_job_result, default=json_util.default))\n",
    "\n",
    "list_topics_detection_jobs_result = comprehend.list_topics_detection_jobs()\n",
    " \n",
    "print('list_topics_detection_jobs_result: ' + json.dumps(list_topics_detection_jobs_result, default=json_util.default))"
   ]
  },
  {
   "cell_type": "code",
   "execution_count": null,
   "metadata": {},
   "outputs": [],
   "source": []
  }
 ],
 "metadata": {
  "kernelspec": {
   "display_name": "conda_python3",
   "language": "python",
   "name": "conda_python3"
  },
  "language_info": {
   "codemirror_mode": {
    "name": "ipython",
    "version": 3
   },
   "file_extension": ".py",
   "mimetype": "text/x-python",
   "name": "python",
   "nbconvert_exporter": "python",
   "pygments_lexer": "ipython3",
   "version": "3.6.5"
  }
 },
 "nbformat": 4,
 "nbformat_minor": 2
}
